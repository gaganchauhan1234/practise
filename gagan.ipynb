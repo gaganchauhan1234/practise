{
 "cells": [
  {
   "cell_type": "code",
   "execution_count": 1,
   "id": "2f1b9383",
   "metadata": {},
   "outputs": [
    {
     "data": {
      "text/plain": [
       "['gagan', 'abhijeet']"
      ]
     },
     "execution_count": 1,
     "metadata": {},
     "output_type": "execute_result"
    }
   ],
   "source": [
    "gagan = ['gagan', 'abhijeet']\n",
    "gagan"
   ]
  },
  {
   "cell_type": "code",
   "execution_count": 2,
   "id": "99ab97c1",
   "metadata": {},
   "outputs": [],
   "source": [
    "gagan.insert(1,'rrrrr')"
   ]
  },
  {
   "cell_type": "code",
   "execution_count": 3,
   "id": "153fbaff",
   "metadata": {},
   "outputs": [
    {
     "data": {
      "text/plain": [
       "['gagan', 'rrrrr', 'abhijeet']"
      ]
     },
     "execution_count": 3,
     "metadata": {},
     "output_type": "execute_result"
    }
   ],
   "source": [
    "gagan\n"
   ]
  },
  {
   "cell_type": "code",
   "execution_count": 4,
   "id": "24edc5ce",
   "metadata": {},
   "outputs": [
    {
     "data": {
      "text/plain": [
       "['gagan', 'rrrrr', 'abhijeet', 'taraa']"
      ]
     },
     "execution_count": 4,
     "metadata": {},
     "output_type": "execute_result"
    }
   ],
   "source": [
    "gagan.append('taraa')\n",
    "gagan\n"
   ]
  },
  {
   "cell_type": "code",
   "execution_count": 5,
   "id": "55628066",
   "metadata": {},
   "outputs": [
    {
     "data": {
      "text/plain": [
       "'abhijeet'"
      ]
     },
     "execution_count": 5,
     "metadata": {},
     "output_type": "execute_result"
    }
   ],
   "source": [
    "gagan[2]\n"
   ]
  },
  {
   "cell_type": "code",
   "execution_count": 6,
   "id": "cb3670b8",
   "metadata": {},
   "outputs": [
    {
     "data": {
      "text/plain": [
       "['gagan', 'rrrrr', 'eee1', 'taraa']"
      ]
     },
     "execution_count": 6,
     "metadata": {},
     "output_type": "execute_result"
    }
   ],
   "source": [
    "gagan[2] = 'eee1'\n",
    "gagan"
   ]
  },
  {
   "cell_type": "code",
   "execution_count": 7,
   "id": "3bf10d35",
   "metadata": {},
   "outputs": [],
   "source": [
    "gagan.remove('eee1')"
   ]
  },
  {
   "cell_type": "code",
   "execution_count": 8,
   "id": "2d7180e4",
   "metadata": {},
   "outputs": [
    {
     "data": {
      "text/plain": [
       "['gagan', 'rrrrr', 'taraa']"
      ]
     },
     "execution_count": 8,
     "metadata": {},
     "output_type": "execute_result"
    }
   ],
   "source": [
    "gagan"
   ]
  },
  {
   "cell_type": "code",
   "execution_count": 9,
   "id": "18f800e3",
   "metadata": {},
   "outputs": [
    {
     "data": {
      "text/plain": [
       "['gagan', 'rrrrr', 'taraa', 'gaaasss', 'rrrrrrrr1']"
      ]
     },
     "execution_count": 9,
     "metadata": {},
     "output_type": "execute_result"
    }
   ],
   "source": [
    "gagan.extend(['gaaasss','rrrrrrrr1'])\n",
    "gagan\n"
   ]
  },
  {
   "cell_type": "code",
   "execution_count": 10,
   "id": "8c264069",
   "metadata": {},
   "outputs": [
    {
     "data": {
      "text/plain": [
       "['gagan', 'rrrrrrrr1']"
      ]
     },
     "execution_count": 10,
     "metadata": {},
     "output_type": "execute_result"
    }
   ],
   "source": [
    "gagan[ :: 4]"
   ]
  },
  {
   "cell_type": "code",
   "execution_count": 11,
   "id": "b47acccc",
   "metadata": {},
   "outputs": [
    {
     "data": {
      "text/plain": [
       "['rrrrr', 'taraa', 'gaaasss', 'rrrrrrrr1']"
      ]
     },
     "execution_count": 11,
     "metadata": {},
     "output_type": "execute_result"
    }
   ],
   "source": [
    "gagan[1:]"
   ]
  },
  {
   "cell_type": "code",
   "execution_count": 12,
   "id": "b52e7bf9",
   "metadata": {},
   "outputs": [
    {
     "data": {
      "text/plain": [
       "['gagan', 'rrrrr', 'taraa', 'gaaasss']"
      ]
     },
     "execution_count": 12,
     "metadata": {},
     "output_type": "execute_result"
    }
   ],
   "source": [
    "gagan[: -1]"
   ]
  },
  {
   "cell_type": "code",
   "execution_count": 13,
   "id": "1e5e3019",
   "metadata": {},
   "outputs": [
    {
     "data": {
      "text/plain": [
       "'taraa'"
      ]
     },
     "execution_count": 13,
     "metadata": {},
     "output_type": "execute_result"
    }
   ],
   "source": [
    "pop_aaa = gagan.pop(2)\n",
    "pop_aaa"
   ]
  },
  {
   "cell_type": "code",
   "execution_count": 14,
   "id": "f4a64b4b",
   "metadata": {},
   "outputs": [
    {
     "data": {
      "text/plain": [
       "['gagan', 'rrrrr', 'gaaasss', 'rrrrrrrr1']"
      ]
     },
     "execution_count": 14,
     "metadata": {},
     "output_type": "execute_result"
    }
   ],
   "source": [
    "gagan"
   ]
  },
  {
   "cell_type": "code",
   "execution_count": 15,
   "id": "19c4f088",
   "metadata": {},
   "outputs": [],
   "source": [
    "gagan.sort()"
   ]
  },
  {
   "cell_type": "code",
   "execution_count": 16,
   "id": "38a79486",
   "metadata": {},
   "outputs": [
    {
     "data": {
      "text/plain": [
       "['gaaasss', 'gagan', 'rrrrr', 'rrrrrrrr1']"
      ]
     },
     "execution_count": 16,
     "metadata": {},
     "output_type": "execute_result"
    }
   ],
   "source": [
    "gagan"
   ]
  },
  {
   "cell_type": "code",
   "execution_count": 17,
   "id": "9c87de80",
   "metadata": {},
   "outputs": [],
   "source": [
    "gagan.sort(reverse=True)"
   ]
  },
  {
   "cell_type": "code",
   "execution_count": 18,
   "id": "019b717a",
   "metadata": {},
   "outputs": [
    {
     "data": {
      "text/plain": [
       "['rrrrrrrr1', 'rrrrr', 'gagan', 'gaaasss']"
      ]
     },
     "execution_count": 18,
     "metadata": {},
     "output_type": "execute_result"
    }
   ],
   "source": [
    "gagan"
   ]
  },
  {
   "cell_type": "code",
   "execution_count": 19,
   "id": "e5582894",
   "metadata": {},
   "outputs": [
    {
     "data": {
      "text/plain": [
       "{'school': 'srlhs',\n",
       " 'subject': ['hindi', 'english', 'marathi'],\n",
       " 'marks': [91, 87, 79]}"
      ]
     },
     "execution_count": 19,
     "metadata": {},
     "output_type": "execute_result"
    }
   ],
   "source": [
    "abhi = {'school':'srlhs','subject':['hindi','english','marathi'], 'marks': [91, 87,79]}\n",
    "abhi"
   ]
  },
  {
   "cell_type": "code",
   "execution_count": 20,
   "id": "97162580",
   "metadata": {},
   "outputs": [
    {
     "data": {
      "text/plain": [
       "dict"
      ]
     },
     "execution_count": 20,
     "metadata": {},
     "output_type": "execute_result"
    }
   ],
   "source": [
    "type(abhi)"
   ]
  },
  {
   "cell_type": "code",
   "execution_count": 21,
   "id": "ea71f151",
   "metadata": {},
   "outputs": [
    {
     "data": {
      "text/plain": [
       "dict_values(['srlhs', ['hindi', 'english', 'marathi'], [91, 87, 79]])"
      ]
     },
     "execution_count": 21,
     "metadata": {},
     "output_type": "execute_result"
    }
   ],
   "source": [
    "abhi.values()"
   ]
  },
  {
   "cell_type": "code",
   "execution_count": 22,
   "id": "7a32723c",
   "metadata": {},
   "outputs": [
    {
     "data": {
      "text/plain": [
       "dict_keys(['school', 'subject', 'marks'])"
      ]
     },
     "execution_count": 22,
     "metadata": {},
     "output_type": "execute_result"
    }
   ],
   "source": [
    "abhi.keys()"
   ]
  },
  {
   "cell_type": "code",
   "execution_count": 23,
   "id": "74c02caa",
   "metadata": {},
   "outputs": [
    {
     "data": {
      "text/plain": [
       "dict_items([('school', 'srlhs'), ('subject', ['hindi', 'english', 'marathi']), ('marks', [91, 87, 79])])"
      ]
     },
     "execution_count": 23,
     "metadata": {},
     "output_type": "execute_result"
    }
   ],
   "source": [
    "abhi.items()"
   ]
  },
  {
   "cell_type": "code",
   "execution_count": 24,
   "id": "9a29773a",
   "metadata": {},
   "outputs": [
    {
     "data": {
      "text/plain": [
       "79"
      ]
     },
     "execution_count": 24,
     "metadata": {},
     "output_type": "execute_result"
    }
   ],
   "source": [
    "abhi['marks'][2]"
   ]
  },
  {
   "cell_type": "code",
   "execution_count": 25,
   "id": "97c4fe0c",
   "metadata": {},
   "outputs": [
    {
     "data": {
      "text/plain": [
       "'ENGLISH'"
      ]
     },
     "execution_count": 25,
     "metadata": {},
     "output_type": "execute_result"
    }
   ],
   "source": [
    "abhi['subject'][1].upper()"
   ]
  },
  {
   "cell_type": "code",
   "execution_count": 26,
   "id": "a2fe0e15",
   "metadata": {},
   "outputs": [],
   "source": [
    "abhi['marks'][2] +=23"
   ]
  },
  {
   "cell_type": "code",
   "execution_count": 27,
   "id": "551e8886",
   "metadata": {},
   "outputs": [
    {
     "data": {
      "text/plain": [
       "{'school': 'srlhs',\n",
       " 'subject': ['hindi', 'english', 'marathi'],\n",
       " 'marks': [91, 87, 102]}"
      ]
     },
     "execution_count": 27,
     "metadata": {},
     "output_type": "execute_result"
    }
   ],
   "source": [
    "abhi"
   ]
  },
  {
   "cell_type": "code",
   "execution_count": 28,
   "id": "e4836e7f",
   "metadata": {},
   "outputs": [],
   "source": [
    "abhi['passingyear'] = 2017"
   ]
  },
  {
   "cell_type": "code",
   "execution_count": 29,
   "id": "175eb636",
   "metadata": {},
   "outputs": [
    {
     "data": {
      "text/plain": [
       "{'school': 'srlhs',\n",
       " 'subject': ['hindi', 'english', 'marathi'],\n",
       " 'marks': [91, 87, 102],\n",
       " 'passingyear': 2017}"
      ]
     },
     "execution_count": 29,
     "metadata": {},
     "output_type": "execute_result"
    }
   ],
   "source": [
    "abhi"
   ]
  },
  {
   "cell_type": "code",
   "execution_count": 30,
   "id": "c8d7ae68",
   "metadata": {},
   "outputs": [
    {
     "name": "stdout",
     "output_type": "stream",
     "text": [
      "he is in growing face\n",
      "He is an young guy\n",
      "He is an young guy\n",
      "he is in growing face\n",
      "he is ad\n",
      "he is ad\n",
      "he is in growing face\n",
      "he is ad\n",
      "he is ad\n",
      "He is an young guy\n",
      "He is an young guy\n"
     ]
    }
   ],
   "source": [
    "age = [17,33,43,23,54,67,87,24,1,2,3,4,76,76,45,3,40]\n",
    "\n",
    "for a in age:\n",
    "    if a >=60:\n",
    "        if a>=50:\n",
    "            print('he is ad')\n",
    "        \n",
    "        else:\n",
    "            ('soon to be ad')\n",
    "        \n",
    "    elif a > 30 and a <=50:\n",
    "        print('He is an young guy')\n",
    "        \n",
    "        \n",
    "    elif a > 14 and a <= 30:\n",
    "        print('he is in growing face')\n",
    "        \n",
    "        \n",
    "    else:\n",
    "        ('he is minor')"
   ]
  },
  {
   "cell_type": "code",
   "execution_count": 31,
   "id": "67a53506",
   "metadata": {},
   "outputs": [
    {
     "data": {
      "text/plain": [
       "range(0, 50)"
      ]
     },
     "execution_count": 31,
     "metadata": {},
     "output_type": "execute_result"
    }
   ],
   "source": [
    "range(50)"
   ]
  },
  {
   "cell_type": "code",
   "execution_count": 32,
   "id": "be731d59",
   "metadata": {},
   "outputs": [
    {
     "data": {
      "text/plain": [
       "[0, 3, 6, 9, 12, 15, 18, 21, 24, 27]"
      ]
     },
     "execution_count": 32,
     "metadata": {},
     "output_type": "execute_result"
    }
   ],
   "source": [
    "list(range(0, 30 , 3))"
   ]
  },
  {
   "cell_type": "code",
   "execution_count": 33,
   "id": "f97f4feb",
   "metadata": {},
   "outputs": [
    {
     "data": {
      "text/plain": [
       "[1600,\n",
       " 1500,\n",
       " 1400,\n",
       " 1300,\n",
       " 1200,\n",
       " 1100,\n",
       " 1000,\n",
       " 900,\n",
       " 800,\n",
       " 700,\n",
       " 600,\n",
       " 500,\n",
       " 400,\n",
       " 300,\n",
       " 200,\n",
       " 100,\n",
       " 0]"
      ]
     },
     "execution_count": 33,
     "metadata": {},
     "output_type": "execute_result"
    }
   ],
   "source": [
    "reverse = list(range(1600,-1,-100))\n",
    "reverse\n"
   ]
  },
  {
   "cell_type": "code",
   "execution_count": 34,
   "id": "2bf31eb6",
   "metadata": {},
   "outputs": [
    {
     "name": "stdout",
     "output_type": "stream",
     "text": [
      "banglore\n",
      "nagpur\n",
      "haridwar\n",
      "khatu\n"
     ]
    }
   ],
   "source": [
    "location = ['banglore','nagpur','haridwar','khatu']\n",
    "\n",
    "for city in location:\n",
    "    city == 'haridwar'\n",
    "    print(city)\n",
    "    continue"
   ]
  },
  {
   "cell_type": "code",
   "execution_count": 35,
   "id": "43467a9c",
   "metadata": {},
   "outputs": [
    {
     "name": "stdout",
     "output_type": "stream",
     "text": [
      "11222\n",
      "7000\n",
      "80000\n"
     ]
    }
   ],
   "source": [
    "salary = [1222,3333,3333,11222,7000,80000]\n",
    "\n",
    "for val in salary:\n",
    "    if val >3333:\n",
    "        print(val)"
   ]
  },
  {
   "cell_type": "code",
   "execution_count": 36,
   "id": "114eb9d4",
   "metadata": {},
   "outputs": [
    {
     "name": "stdout",
     "output_type": "stream",
     "text": [
      "multiplication table of = 2\n",
      "0\n",
      "2\n",
      "4\n",
      "6\n",
      "8\n",
      "10\n",
      "12\n",
      "14\n",
      "16\n",
      "18\n",
      "20\n",
      "multiplication table of = 3\n",
      "0\n",
      "3\n",
      "6\n",
      "9\n",
      "12\n",
      "15\n",
      "18\n",
      "21\n",
      "24\n",
      "27\n",
      "30\n",
      "multiplication table of = 4\n",
      "0\n",
      "4\n",
      "8\n",
      "12\n",
      "16\n",
      "20\n",
      "24\n",
      "28\n",
      "32\n",
      "36\n",
      "40\n"
     ]
    }
   ],
   "source": [
    "for abc in range(2,5):\n",
    "    print('multiplication table of =', abc)\n",
    "    for a in range(0,11):\n",
    "        print(abc * a)\n",
    "        if a ==10:\n",
    "            break"
   ]
  },
  {
   "cell_type": "code",
   "execution_count": 37,
   "id": "9b290fd8",
   "metadata": {},
   "outputs": [
    {
     "name": "stdout",
     "output_type": "stream",
     "text": [
      "1 aaaaa\n",
      "2 aaaaa\n",
      "3 aaaaa\n",
      "4 aaaaa\n",
      "5 aaaaa\n",
      "6 aaaaa\n",
      "7 aaaaa\n",
      "8 aaaaa\n",
      "9 aaaaa\n",
      "10 aaaaa\n",
      "11 aaaaa\n",
      "12 aaaaa\n",
      "13 aaaaa\n",
      "14 aaaaa\n",
      "15 aaaaa\n",
      "16 aaaaa\n",
      "17 aaaaa\n",
      "18 aaaaa\n",
      "19 aaaaa\n",
      "20 aaaaa\n"
     ]
    }
   ],
   "source": [
    "a = 0\n",
    "\n",
    "while a < 20:\n",
    "    a = (a + 1)\n",
    "    print(a, 'aaaaa')"
   ]
  },
  {
   "cell_type": "code",
   "execution_count": 94,
   "id": "13af91bd",
   "metadata": {},
   "outputs": [
    {
     "name": "stdout",
     "output_type": "stream",
     "text": [
      "(0, 17)\n",
      "(1, 33)\n",
      "(2, 43)\n",
      "(3, 23)\n",
      "(4, 54)\n",
      "(5, 67)\n",
      "(6, 87)\n",
      "(7, 24)\n",
      "(8, 1)\n",
      "(9, 2)\n",
      "(10, 3)\n",
      "(11, 4)\n",
      "(12, 76)\n",
      "(13, 76)\n",
      "(14, 45)\n",
      "(15, 3)\n",
      "(16, 40)\n"
     ]
    }
   ],
   "source": [
    "age = [17,33,43,23,54,67,87,24,1,2,3,4,76,76,45,3,40]\n",
    "\n",
    "for a in enumerate(age ):\n",
    "    print(a)"
   ]
  },
  {
   "cell_type": "code",
   "execution_count": 39,
   "id": "219207d7",
   "metadata": {},
   "outputs": [
    {
     "name": "stdout",
     "output_type": "stream",
     "text": [
      "banglore\n",
      "nagpur\n",
      "khatu\n"
     ]
    }
   ],
   "source": [
    "location = ['banglore','nagpur','haridwar','khatu']\n",
    "\n",
    "for name in location:\n",
    "    if name =='haridwar':\n",
    "        continue\n",
    "    print(name) "
   ]
  },
  {
   "cell_type": "code",
   "execution_count": 40,
   "id": "f990a2b5",
   "metadata": {},
   "outputs": [],
   "source": [
    "def gagan(*sudoo):\n",
    "    for i in sudoo:\n",
    "        print('i luv u sudoo' , i)"
   ]
  },
  {
   "cell_type": "code",
   "execution_count": 41,
   "id": "e600ff52",
   "metadata": {},
   "outputs": [
    {
     "name": "stdout",
     "output_type": "stream",
     "text": [
      "i luv u sudoo 2019\n",
      "i luv u sudoo 2020\n",
      "i luv u sudoo 2021\n",
      "i luv u sudoo 2022\n",
      "i luv u sudoo forever\n"
     ]
    }
   ],
   "source": [
    "gagan(2019,2020,2021,2022, 'forever')"
   ]
  },
  {
   "cell_type": "code",
   "execution_count": 42,
   "id": "5bd61c39",
   "metadata": {},
   "outputs": [],
   "source": [
    "import keyword"
   ]
  },
  {
   "cell_type": "code",
   "execution_count": 43,
   "id": "f7761421",
   "metadata": {},
   "outputs": [
    {
     "data": {
      "text/plain": [
       "['False',\n",
       " 'None',\n",
       " 'True',\n",
       " '__peg_parser__',\n",
       " 'and',\n",
       " 'as',\n",
       " 'assert',\n",
       " 'async',\n",
       " 'await',\n",
       " 'break',\n",
       " 'class',\n",
       " 'continue',\n",
       " 'def',\n",
       " 'del',\n",
       " 'elif',\n",
       " 'else',\n",
       " 'except',\n",
       " 'finally',\n",
       " 'for',\n",
       " 'from',\n",
       " 'global',\n",
       " 'if',\n",
       " 'import',\n",
       " 'in',\n",
       " 'is',\n",
       " 'lambda',\n",
       " 'nonlocal',\n",
       " 'not',\n",
       " 'or',\n",
       " 'pass',\n",
       " 'raise',\n",
       " 'return',\n",
       " 'try',\n",
       " 'while',\n",
       " 'with',\n",
       " 'yield']"
      ]
     },
     "execution_count": 43,
     "metadata": {},
     "output_type": "execute_result"
    }
   ],
   "source": [
    "keyword.kwlist"
   ]
  },
  {
   "cell_type": "code",
   "execution_count": 105,
   "id": "5cae6a68",
   "metadata": {},
   "outputs": [],
   "source": [
    "def gaga(**gg):\n",
    "    for i in gg.items:\n",
    "        print('aaaaaaa',i)"
   ]
  },
  {
   "cell_type": "code",
   "execution_count": 45,
   "id": "71f3dd65",
   "metadata": {},
   "outputs": [
    {
     "ename": "TypeError",
     "evalue": "'builtin_function_or_method' object is not iterable",
     "output_type": "error",
     "traceback": [
      "\u001b[1;31m---------------------------------------------------------------------------\u001b[0m",
      "\u001b[1;31mTypeError\u001b[0m                                 Traceback (most recent call last)",
      "\u001b[1;32m~\\AppData\\Local\\Temp\\ipykernel_7312\\668930847.py\u001b[0m in \u001b[0;36m<module>\u001b[1;34m\u001b[0m\n\u001b[1;32m----> 1\u001b[1;33m \u001b[0mgaga\u001b[0m\u001b[1;33m(\u001b[0m\u001b[0mgagan\u001b[0m \u001b[1;33m=\u001b[0m\u001b[1;34m'yyyyy'\u001b[0m\u001b[1;33m)\u001b[0m\u001b[1;33m\u001b[0m\u001b[1;33m\u001b[0m\u001b[0m\n\u001b[0m",
      "\u001b[1;32m~\\AppData\\Local\\Temp\\ipykernel_7312\\2953785915.py\u001b[0m in \u001b[0;36mgaga\u001b[1;34m(**gg)\u001b[0m\n\u001b[0;32m      1\u001b[0m \u001b[1;32mdef\u001b[0m \u001b[0mgaga\u001b[0m\u001b[1;33m(\u001b[0m\u001b[1;33m**\u001b[0m\u001b[0mgg\u001b[0m\u001b[1;33m)\u001b[0m\u001b[1;33m:\u001b[0m\u001b[1;33m\u001b[0m\u001b[1;33m\u001b[0m\u001b[0m\n\u001b[1;32m----> 2\u001b[1;33m     \u001b[1;32mfor\u001b[0m \u001b[0mi\u001b[0m \u001b[1;32min\u001b[0m \u001b[0mgg\u001b[0m\u001b[1;33m.\u001b[0m\u001b[0mitems\u001b[0m\u001b[1;33m:\u001b[0m\u001b[1;33m\u001b[0m\u001b[1;33m\u001b[0m\u001b[0m\n\u001b[0m\u001b[0;32m      3\u001b[0m         \u001b[0mprint\u001b[0m\u001b[1;33m(\u001b[0m\u001b[1;34m'aaaaaaa'\u001b[0m\u001b[1;33m,\u001b[0m\u001b[0mi\u001b[0m\u001b[1;33m)\u001b[0m\u001b[1;33m\u001b[0m\u001b[1;33m\u001b[0m\u001b[0m\n",
      "\u001b[1;31mTypeError\u001b[0m: 'builtin_function_or_method' object is not iterable"
     ]
    }
   ],
   "source": []
  },
  {
   "cell_type": "code",
   "execution_count": null,
   "id": "3451eaf3",
   "metadata": {},
   "outputs": [],
   "source": [
    "s = 'this batch rocks'\n",
    "\n",
    "\n",
    "s"
   ]
  },
  {
   "cell_type": "code",
   "execution_count": null,
   "id": "7d8c141e",
   "metadata": {},
   "outputs": [],
   "source": [
    "s[::2]"
   ]
  },
  {
   "cell_type": "code",
   "execution_count": 63,
   "id": "dedfe135",
   "metadata": {},
   "outputs": [
    {
     "name": "stdout",
     "output_type": "stream",
     "text": [
      "18000\n"
     ]
    }
   ],
   "source": [
    "total_salary = lambda salary, i : salary - i\n",
    "print(total_salary(26000,8000))"
   ]
  },
  {
   "cell_type": "code",
   "execution_count": 64,
   "id": "4b0c5480",
   "metadata": {},
   "outputs": [
    {
     "name": "stdout",
     "output_type": "stream",
     "text": [
      "99\n"
     ]
    }
   ],
   "source": [
    "age =lambda a ,b : a + b\n",
    "print(age(45,54))"
   ]
  },
  {
   "cell_type": "code",
   "execution_count": null,
   "id": "bd2badf3",
   "metadata": {},
   "outputs": [],
   "source": [
    "def gagan(a,b):\n",
    "    gagan_t= (a +b)\n",
    "    \n",
    "    if gagan_t >= 5:\n",
    "        return gagan_t + 4\n",
    "    \n",
    "    else:\n",
    "        print('aaa')"
   ]
  },
  {
   "cell_type": "code",
   "execution_count": null,
   "id": "4c4703ab",
   "metadata": {},
   "outputs": [],
   "source": [
    "print('aaaaaa' , gagan(5,1))"
   ]
  },
  {
   "cell_type": "code",
   "execution_count": 95,
   "id": "ba1d5bb0",
   "metadata": {},
   "outputs": [],
   "source": [
    "def gra_m(mark):\n",
    "    if mark == 34:\n",
    "        return(mark  + 2)\n",
    "    elif mark == 33:\n",
    "        return (mark + 2)\n",
    "    else:\n",
    "        return mark"
   ]
  },
  {
   "cell_type": "code",
   "execution_count": 96,
   "id": "c5f1c59f",
   "metadata": {},
   "outputs": [],
   "source": [
    "score = [34,21,33,40,33,34,34]\n"
   ]
  },
  {
   "cell_type": "code",
   "execution_count": 97,
   "id": "24962ff3",
   "metadata": {},
   "outputs": [
    {
     "name": "stdout",
     "output_type": "stream",
     "text": [
      "[36, 21, 35, 40, 35, 36, 36]\n"
     ]
    }
   ],
   "source": [
    "total= list(map(gra_m,score))\n",
    "print(total)"
   ]
  },
  {
   "cell_type": "code",
   "execution_count": 98,
   "id": "3cf74a98",
   "metadata": {},
   "outputs": [
    {
     "name": "stdout",
     "output_type": "stream",
     "text": [
      "[36, 21, 35, 40, 35, 36, 36]\n"
     ]
    }
   ],
   "source": [
    "total= list(map(gra_m,score))\n",
    "print(total)"
   ]
  },
  {
   "cell_type": "code",
   "execution_count": 99,
   "id": "c743b65e",
   "metadata": {},
   "outputs": [],
   "source": [
    "def sal(fs):\n",
    "    if fs ==26000:\n",
    "        return (fs + 5000)\n",
    "    elif fs == 25000:\n",
    "        return (fs + 7000)\n",
    "    elif fs<= 20000:\n",
    "        return(fs+ 10000)\n",
    "        \n",
    "    else:\n",
    "        return fs"
   ]
  },
  {
   "cell_type": "code",
   "execution_count": 100,
   "id": "c3a2d058",
   "metadata": {},
   "outputs": [],
   "source": [
    "salary = [26000,25000,12000,18000,22000]"
   ]
  },
  {
   "cell_type": "code",
   "execution_count": 101,
   "id": "5df98283",
   "metadata": {},
   "outputs": [],
   "source": [
    "total_sak = list(map(sal,salary))"
   ]
  },
  {
   "cell_type": "code",
   "execution_count": 102,
   "id": "dd9e4bdc",
   "metadata": {},
   "outputs": [
    {
     "data": {
      "text/plain": [
       "[31000, 32000, 22000, 28000, 22000]"
      ]
     },
     "execution_count": 102,
     "metadata": {},
     "output_type": "execute_result"
    }
   ],
   "source": [
    "total_sak"
   ]
  },
  {
   "cell_type": "code",
   "execution_count": null,
   "id": "bf1dae68",
   "metadata": {},
   "outputs": [],
   "source": [
    "total_sa = list(filter(sal,salary))\n",
    "total_sa"
   ]
  },
  {
   "cell_type": "code",
   "execution_count": null,
   "id": "dd60df26",
   "metadata": {},
   "outputs": [],
   "source": [
    "total_sak"
   ]
  },
  {
   "cell_type": "code",
   "execution_count": null,
   "id": "d267b4f5",
   "metadata": {},
   "outputs": [],
   "source": [
    "def aa(eww):\n",
    "    if eww <34:\n",
    "        return eww"
   ]
  },
  {
   "cell_type": "code",
   "execution_count": null,
   "id": "b2a31367",
   "metadata": {},
   "outputs": [],
   "source": [
    "ss = [12,34,35,65,34,23,76,23,34,12]"
   ]
  },
  {
   "cell_type": "code",
   "execution_count": null,
   "id": "99c26d46",
   "metadata": {},
   "outputs": [],
   "source": [
    "total_d = list(filter(aa,ss))"
   ]
  },
  {
   "cell_type": "code",
   "execution_count": null,
   "id": "996b7075",
   "metadata": {},
   "outputs": [],
   "source": [
    "total_d"
   ]
  },
  {
   "cell_type": "code",
   "execution_count": null,
   "id": "741b5240",
   "metadata": {},
   "outputs": [],
   "source": [
    " list(map(lambda aa: aa%20 == 21,[1,4,5,4,1,4]))"
   ]
  },
  {
   "cell_type": "code",
   "execution_count": null,
   "id": "eabf7e47",
   "metadata": {},
   "outputs": [],
   "source": [
    "list(filter(lambda aa: aa%20==21,[1,4,5,4,1,4]))"
   ]
  },
  {
   "cell_type": "code",
   "execution_count": null,
   "id": "6b02c98b",
   "metadata": {},
   "outputs": [],
   "source": [
    "ma =333333\n",
    "\n",
    "def gagan():\n",
    "    print('ina mina deekha', 11 + ma)\n",
    "    \n",
    "gagan()"
   ]
  },
  {
   "cell_type": "code",
   "execution_count": null,
   "id": "35675440",
   "metadata": {},
   "outputs": [],
   "source": [
    " print('ina mina deekha', 444444 + ma)"
   ]
  },
  {
   "cell_type": "code",
   "execution_count": null,
   "id": "8a4e7b7d",
   "metadata": {},
   "outputs": [],
   "source": [
    "name = input('enter your name = ' )"
   ]
  },
  {
   "cell_type": "code",
   "execution_count": null,
   "id": "130193d5",
   "metadata": {},
   "outputs": [],
   "source": [
    "bhai = input(' enter your name bhai ')\n",
    "    \n",
    "bhen = input(' enter your name bhen ')\n",
    "\n",
    "total = bhai + bhen\n",
    "\n",
    "print(' total f ' , total)\n",
    "\n",
    "\n",
    "\n",
    "    \n",
    "    "
   ]
  },
  {
   "cell_type": "code",
   "execution_count": null,
   "id": "43b69fb9",
   "metadata": {},
   "outputs": [],
   "source": [
    "salary = int(input(' enter your inhand salary ' ))\n",
    "\n",
    "incentives = int(input('enter you incentive '))\n",
    "\n",
    "shift_a = int(input('enter you shift allowance '))\n",
    "\n",
    "inhand_sal = salary + incentives + shift_a\n",
    "\n",
    "print('total salary =', inhand_sal)"
   ]
  },
  {
   "cell_type": "code",
   "execution_count": null,
   "id": "77e918ce",
   "metadata": {},
   "outputs": [],
   "source": [
    "x = int(input('enter firt number'))\n",
    "\n",
    "y = int(input('enter second number'))\n",
    "\n",
    "print('befire swapping')\n",
    "print('value of x:',x,'and y:',y)\n",
    "x,y=y,x\n",
    "print('after swapping')\n",
    "print('value of x:',x,'and y:',y)\n"
   ]
  },
  {
   "cell_type": "code",
   "execution_count": null,
   "id": "6c9342cc",
   "metadata": {},
   "outputs": [],
   "source": []
  },
  {
   "cell_type": "code",
   "execution_count": 49,
   "id": "066c0d6a",
   "metadata": {},
   "outputs": [],
   "source": [
    "second_car(2021,12300,'honda')"
   ]
  },
  {
   "cell_type": "code",
   "execution_count": null,
   "id": "57544d69",
   "metadata": {},
   "outputs": [],
   "source": []
  },
  {
   "cell_type": "code",
   "execution_count": null,
   "id": "9a4f6633",
   "metadata": {},
   "outputs": [],
   "source": []
  },
  {
   "cell_type": "code",
   "execution_count": 115,
   "id": "86672eb3",
   "metadata": {},
   "outputs": [],
   "source": []
  },
  {
   "cell_type": "code",
   "execution_count": 117,
   "id": "00f14017",
   "metadata": {},
   "outputs": [],
   "source": [
    "second_car(2021,12200,'honda')\n"
   ]
  },
  {
   "cell_type": "code",
   "execution_count": 46,
   "id": "db7ab223",
   "metadata": {},
   "outputs": [
    {
     "name": "stdout",
     "output_type": "stream",
     "text": [
      "1 gagan\n",
      "2 gagan\n",
      "3 gagan\n",
      "4 gagan\n",
      "5 gagan\n",
      "6 gagan\n",
      "7 gagan\n",
      "8 gagan\n",
      "9 gagan\n",
      "10 gagan\n",
      "11 gagan\n",
      "12 gagan\n",
      "13 gagan\n",
      "14 gagan\n",
      "15 gagan\n",
      "16 gagan\n",
      "17 gagan\n",
      "18 gagan\n",
      "19 gagan\n",
      "20 gagan\n"
     ]
    }
   ],
   "source": [
    "i = 0\n",
    "\n",
    "while i < 20:\n",
    "    i = i + 1\n",
    "    print(i ,'gagan')"
   ]
  },
  {
   "cell_type": "code",
   "execution_count": null,
   "id": "a16cf34b",
   "metadata": {},
   "outputs": [],
   "source": []
  },
  {
   "cell_type": "code",
   "execution_count": null,
   "id": "4ce8b168",
   "metadata": {},
   "outputs": [],
   "source": []
  },
  {
   "cell_type": "code",
   "execution_count": null,
   "id": "9a7003d8",
   "metadata": {},
   "outputs": [],
   "source": [
    "def second_car(year, kilo, brand):\n",
    "    if year == '2020':\n",
    "        if 12000 > kilo <= 22000:\n",
    "            if brand == 'honda':\n",
    "                print('22333 to 222222')\n",
    "            elif  barnd == 'ren':\n",
    "                print('2222222 to 54334')\n",
    "                    \n",
    "            else:\n",
    "                ('no stock valaible ')\n",
    "                \n",
    "        elif 23000 > kilo <=30000:\n",
    "            if brand =='honda':\n",
    "                print('543333 to 4378899')\n",
    "            \n",
    "            elif brand == 'ren':\n",
    "                print('234323432 to 4543454345')\n",
    "                \n",
    "            else:\n",
    "                print('no stock available')\n",
    "                \n",
    "        else:\n",
    "            print('try after few days')\n",
    "            \n",
    "            \n",
    "    elif year == 2021:\n",
    "        if 12000 > kilo <= 12342:\n",
    "            if brand =='honda':\n",
    "                print('222222 to 6543445')\n",
    "                     \n",
    "            elif brand =='ren':\n",
    "                print('222321 to 654454')\n",
    "                \n",
    "            else:\n",
    "                print('not available')\n",
    "                \n",
    "    \n",
    "    else:\n",
    "        print('no car vaaliable for these year')\n",
    "    \n",
    "    "
   ]
  },
  {
   "cell_type": "code",
   "execution_count": null,
   "id": "3311bb0f",
   "metadata": {},
   "outputs": [],
   "source": []
  },
  {
   "cell_type": "code",
   "execution_count": 49,
   "id": "5ffe3d62",
   "metadata": {},
   "outputs": [],
   "source": [
    "gagan = ['ssss','ssddd','swadc']\n",
    "\n",
    "for a in gagan:\n",
    "    if a =='ssddd':\n",
    "        break\n",
    "        print(a)"
   ]
  },
  {
   "cell_type": "code",
   "execution_count": null,
   "id": "ae77d3f6",
   "metadata": {},
   "outputs": [],
   "source": []
  },
  {
   "cell_type": "code",
   "execution_count": 56,
   "id": "0cbce488",
   "metadata": {},
   "outputs": [
    {
     "name": "stdout",
     "output_type": "stream",
     "text": [
      "ssss\n"
     ]
    }
   ],
   "source": [
    "gagan = ['ssss','ssddd','swadc']\n",
    "\n",
    "for a in gagan:\n",
    "    if a =='ssddd':\n",
    "        break\n",
    "    print(a)"
   ]
  },
  {
   "cell_type": "code",
   "execution_count": 57,
   "id": "badeb56b",
   "metadata": {},
   "outputs": [],
   "source": [
    "def a(dd):\n",
    "    if dd ==1213:\n",
    "        return (dd + 22)\n",
    "    \n",
    "    elif dd==1100:\n",
    "        return (dd + 111)\n",
    "    \n",
    "    else:\n",
    "        return dd\n",
    "    "
   ]
  },
  {
   "cell_type": "code",
   "execution_count": 58,
   "id": "4b6df63f",
   "metadata": {},
   "outputs": [],
   "source": [
    "dddd= [1100,1121,1213,'wwwww']"
   ]
  },
  {
   "cell_type": "code",
   "execution_count": 59,
   "id": "a89e89bf",
   "metadata": {},
   "outputs": [
    {
     "data": {
      "text/plain": [
       "[1211, 1121, 1235, 'wwwww']"
      ]
     },
     "execution_count": 59,
     "metadata": {},
     "output_type": "execute_result"
    }
   ],
   "source": [
    "list(map(a,dddd))"
   ]
  },
  {
   "cell_type": "code",
   "execution_count": 60,
   "id": "ce528285",
   "metadata": {},
   "outputs": [
    {
     "data": {
      "text/plain": [
       "[1100, 1121, 1213, 'wwwww']"
      ]
     },
     "execution_count": 60,
     "metadata": {},
     "output_type": "execute_result"
    }
   ],
   "source": [
    "list(filter(a,dddd))"
   ]
  },
  {
   "cell_type": "code",
   "execution_count": 91,
   "id": "7aa42f4d",
   "metadata": {},
   "outputs": [
    {
     "name": "stdout",
     "output_type": "stream",
     "text": [
      "3\n"
     ]
    }
   ],
   "source": [
    "gagan = lambda a ,b: a+b\n",
    "print(gagan(1,2))"
   ]
  },
  {
   "cell_type": "code",
   "execution_count": 93,
   "id": "95d2a5b1",
   "metadata": {},
   "outputs": [
    {
     "data": {
      "text/plain": [
       "[]"
      ]
     },
     "execution_count": 93,
     "metadata": {},
     "output_type": "execute_result"
    }
   ],
   "source": [
    " list(filter(lambda aa: aa%20 == 0,[1,4,5,4,1,4]))\n",
    "    "
   ]
  },
  {
   "cell_type": "code",
   "execution_count": 112,
   "id": "bdc12779",
   "metadata": {},
   "outputs": [
    {
     "ename": "NameError",
     "evalue": "name 'b' is not defined",
     "output_type": "error",
     "traceback": [
      "\u001b[1;31m---------------------------------------------------------------------------\u001b[0m",
      "\u001b[1;31mNameError\u001b[0m                                 Traceback (most recent call last)",
      "\u001b[1;32m~\\AppData\\Local\\Temp\\ipykernel_7312\\2109062846.py\u001b[0m in \u001b[0;36m<module>\u001b[1;34m\u001b[0m\n\u001b[1;32m----> 1\u001b[1;33m \u001b[0mlist\u001b[0m\u001b[1;33m(\u001b[0m\u001b[0mmap\u001b[0m\u001b[1;33m(\u001b[0m\u001b[1;32mlambda\u001b[0m \u001b[0ma\u001b[0m\u001b[1;33m,\u001b[0m\u001b[0mb\u001b[0m\u001b[1;33m,\u001b[0m\u001b[0mc\u001b[0m \u001b[1;33m:\u001b[0m \u001b[0ma\u001b[0m\u001b[1;33m*\u001b[0m\u001b[0mb\u001b[0m\u001b[1;33m*\u001b[0m\u001b[0mc\u001b[0m\u001b[1;33m,\u001b[0m \u001b[0ma\u001b[0m\u001b[1;33m,\u001b[0m\u001b[0mb\u001b[0m\u001b[1;33m,\u001b[0m\u001b[0mc\u001b[0m\u001b[1;33m)\u001b[0m\u001b[1;33m)\u001b[0m\u001b[1;33m\u001b[0m\u001b[1;33m\u001b[0m\u001b[0m\n\u001b[0m",
      "\u001b[1;31mNameError\u001b[0m: name 'b' is not defined"
     ]
    }
   ],
   "source": []
  },
  {
   "cell_type": "code",
   "execution_count": null,
   "id": "55ae33c3",
   "metadata": {},
   "outputs": [],
   "source": []
  },
  {
   "cell_type": "code",
   "execution_count": null,
   "id": "204669e7",
   "metadata": {},
   "outputs": [],
   "source": []
  },
  {
   "cell_type": "code",
   "execution_count": 48,
   "id": "5b23dd9b",
   "metadata": {},
   "outputs": [],
   "source": [
    "second_car(2021,12200,'honda' )c"
   ]
  },
  {
   "cell_type": "code",
   "execution_count": null,
   "id": "2d8f2b1c",
   "metadata": {},
   "outputs": [],
   "source": []
  }
 ],
 "metadata": {
  "kernelspec": {
   "display_name": "Python 3 (ipykernel)",
   "language": "python",
   "name": "python3"
  },
  "language_info": {
   "codemirror_mode": {
    "name": "ipython",
    "version": 3
   },
   "file_extension": ".py",
   "mimetype": "text/x-python",
   "name": "python",
   "nbconvert_exporter": "python",
   "pygments_lexer": "ipython3",
   "version": "3.9.13"
  }
 },
 "nbformat": 4,
 "nbformat_minor": 5
}
