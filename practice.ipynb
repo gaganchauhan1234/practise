{
 "cells": [
  {
   "cell_type": "code",
   "execution_count": 8,
   "id": "446111b0",
   "metadata": {},
   "outputs": [
    {
     "name": "stdout",
     "output_type": "stream",
     "text": [
      "its something else\n"
     ]
    }
   ],
   "source": [
    "i = 345632\n",
    "\n",
    "\n",
    "if i > 345633:\n",
    "    print ('gagan is greathter than 345633 ')\n",
    "\n",
    "else:\n",
    "    print('its something else')\n",
    "\n"
   ]
  },
  {
   "cell_type": "code",
   "execution_count": 9,
   "id": "ff6a4209",
   "metadata": {},
   "outputs": [
    {
     "name": "stdout",
     "output_type": "stream",
     "text": [
      "both the confituions are true\n"
     ]
    }
   ],
   "source": [
    "a = 23333\n",
    "b =34456\n",
    "c = 554333\n",
    "\n",
    "if a < b and b < c:\n",
    "    print('both the confituions are true')\n",
    "else:\n",
    "    print(\"no matter what\")\n",
    "    "
   ]
  },
  {
   "cell_type": "code",
   "execution_count": 18,
   "id": "705690d4",
   "metadata": {},
   "outputs": [
    {
     "name": "stdout",
     "output_type": "stream",
     "text": [
      "they are satisfies with the job\n"
     ]
    }
   ],
   "source": [
    "sal = 345653450999\n",
    "\n",
    "if sal >= 345433456:\n",
    "    if sal < 3454300000000756:\n",
    "        print('they are satisfies with the job')\n",
    "    \n",
    "    else:\n",
    "        print('they wanted hike in their salary')\n",
    "        \n",
    "        \n",
    "elif sal > 300000 and sal<=34543356:\n",
    "    print('thet expected promtion ')\n",
    "    \n",
    "    \n",
    "else:\n",
    "    print('they are not performing well')"
   ]
  },
  {
   "cell_type": "code",
   "execution_count": 19,
   "id": "4ae6358b",
   "metadata": {},
   "outputs": [
    {
     "name": "stdout",
     "output_type": "stream",
     "text": [
      "range(0, 23)\n"
     ]
    }
   ],
   "source": [
    "print(range(23))"
   ]
  },
  {
   "cell_type": "code",
   "execution_count": 21,
   "id": "32d26a22",
   "metadata": {},
   "outputs": [
    {
     "name": "stdout",
     "output_type": "stream",
     "text": [
      "[0, 2, 4, 6, 8, 10, 12, 14, 16, 18, 20, 22]\n"
     ]
    }
   ],
   "source": [
    "print(list(range(0,24 ,2)))"
   ]
  },
  {
   "cell_type": "code",
   "execution_count": 23,
   "id": "6e743926",
   "metadata": {},
   "outputs": [
    {
     "name": "stdout",
     "output_type": "stream",
     "text": [
      "gagan\n",
      "hhdhd\n",
      "rtyyyytr\n",
      "fddddd\n"
     ]
    }
   ],
   "source": [
    "name = ['gagan','hhdhd', 'rtyyyytr', 'fddddd']\n",
    "\n",
    "for var in name:\n",
    "    print(var)"
   ]
  },
  {
   "cell_type": "code",
   "execution_count": 4,
   "id": "e3c0bcd6",
   "metadata": {},
   "outputs": [
    {
     "name": "stdout",
     "output_type": "stream",
     "text": [
      "50000\n",
      "49000\n",
      "497655\n",
      "45000\n"
     ]
    }
   ],
   "source": [
    "money = [50000,49000,497655,45000]\n",
    "\n",
    "for g in money:\n",
    "    if g >= 4900:\n",
    "        print(g)"
   ]
  },
  {
   "cell_type": "code",
   "execution_count": 45,
   "id": "2ab5ce37",
   "metadata": {},
   "outputs": [
    {
     "name": "stdout",
     "output_type": "stream",
     "text": [
      "they are satisfies with the job\n",
      "they are not performing well\n",
      "thet expected promtion \n",
      "they are satisfies with the job\n",
      "thet expected promtion \n",
      "they are satisfies with the job\n",
      "they are satisfies with the job\n"
     ]
    }
   ],
   "source": [
    "sal = [45653450999,34556665,3434543,5434543456543,456778,777777777777777,5444444444]\n",
    "\n",
    "for money in sal:\n",
    "    if money >= 345433456:\n",
    "        if money < 3454300000000756:\n",
    "             print('they are satisfies with the job')\n",
    "        else:\n",
    "            print('they wanted hike in their salary')\n",
    "        \n",
    "    elif money > 300000 and money <=34543356:\n",
    "        print('thet expected promtion ')\n",
    "    \n",
    "    \n",
    "    else:\n",
    "        print('they are not performing well')"
   ]
  },
  {
   "cell_type": "code",
   "execution_count": 2,
   "id": "6a6a0119",
   "metadata": {},
   "outputs": [
    {
     "name": "stdout",
     "output_type": "stream",
     "text": [
      "multiplicatin table of 2\n",
      "2\n",
      "2\n",
      "2\n",
      "2\n",
      "2\n",
      "2\n",
      "2\n",
      "2\n",
      "multiplicatin table of 3\n",
      "3\n",
      "3\n",
      "3\n",
      "3\n",
      "3\n",
      "3\n",
      "3\n",
      "3\n",
      "end\n"
     ]
    }
   ],
   "source": [
    "for num in range(2,4):\n",
    "    print ('multiplicatin table of', num)\n",
    "    for a in range(1,9):\n",
    "        print(num * 1)\n",
    "        if a == 20:\n",
    "            break\n",
    "            \n",
    "            \n",
    "            \n",
    "else:\n",
    "    print('end')\n",
    "    \n",
    "    "
   ]
  },
  {
   "cell_type": "code",
   "execution_count": 6,
   "id": "c022ba8f",
   "metadata": {},
   "outputs": [
    {
     "name": "stdout",
     "output_type": "stream",
     "text": [
      "1 gagan\n",
      "2 gagan\n",
      "3 gagan\n",
      "4 gagan\n",
      "5 gagan\n",
      "6 gagan\n",
      "7 gagan\n",
      "8 gagan\n",
      "9 gagan\n",
      "10 gagan\n",
      "11 gagan\n",
      "12 gagan\n",
      "13 gagan\n",
      "14 gagan\n",
      "15 gagan\n",
      "16 gagan\n",
      "17 gagan\n",
      "18 gagan\n",
      "19 gagan\n",
      "20 gagan\n"
     ]
    }
   ],
   "source": [
    "i = 0\n",
    "\n",
    "while i < 20:\n",
    "    i = i + 1\n",
    "    print(i , 'gagan')\n",
    "\n"
   ]
  },
  {
   "cell_type": "code",
   "execution_count": 86,
   "id": "f6fa06cd",
   "metadata": {},
   "outputs": [
    {
     "name": "stdout",
     "output_type": "stream",
     "text": [
      "345632 gagan\n",
      "345632 gagan\n",
      "345632 gagan\n",
      "345632 gagan\n",
      "345632 gagan\n",
      "345632 gagan\n",
      "345632 gagan\n",
      "345632 gagan\n",
      "345632 gagan\n",
      "345632 gagan\n",
      "345632 gagan\n",
      "345632 gagan\n",
      "345632 gagan\n",
      "345632 gagan\n",
      "345632 gagan\n",
      "345632 gagan\n",
      "345632 gagan\n",
      "345632 gagan\n",
      "345632 gagan\n",
      "345632 gagan\n"
     ]
    }
   ],
   "source": [
    "g = 0\n",
    "\n",
    "while g < 20:\n",
    "    g = g + 1\n",
    "    print(i , 'gagan')"
   ]
  },
  {
   "cell_type": "code",
   "execution_count": 7,
   "id": "2807868f",
   "metadata": {},
   "outputs": [
    {
     "name": "stdout",
     "output_type": "stream",
     "text": [
      "1 gagan\n",
      "2 gagan\n",
      "3 gagan\n",
      "4 gagan\n",
      "5 gagan\n",
      "6 gagan\n",
      "7 gagan\n",
      "8 gagan\n",
      "9 gagan\n",
      "10 gagan\n",
      "11 gagan\n",
      "12 gagan\n",
      "13 gagan\n",
      "14 gagan\n",
      "15 gagan\n",
      "16 gagan\n",
      "17 gagan\n",
      "18 gagan\n",
      "19 gagan\n",
      "20 gagan\n"
     ]
    }
   ],
   "source": [
    "a =0\n",
    "\n",
    "while a <20:\n",
    "    a = a + 1\n",
    "    print(a,'gagan')"
   ]
  },
  {
   "cell_type": "code",
   "execution_count": 95,
   "id": "17e9085e",
   "metadata": {},
   "outputs": [
    {
     "data": {
      "text/plain": [
       "time.struct_time(tm_year=2022, tm_mon=11, tm_mday=2, tm_hour=7, tm_min=7, tm_sec=40, tm_wday=2, tm_yday=306, tm_isdst=0)"
      ]
     },
     "execution_count": 95,
     "metadata": {},
     "output_type": "execute_result"
    }
   ],
   "source": [
    "import time\n",
    "result = time.localtime()\n",
    "result"
   ]
  },
  {
   "cell_type": "code",
   "execution_count": 8,
   "id": "1e1ed2e0",
   "metadata": {},
   "outputs": [
    {
     "name": "stdout",
     "output_type": "stream",
     "text": [
      "(0, 123432)\n",
      "(1, 5432345)\n",
      "(2, 232443)\n",
      "(3, 2345643)\n"
     ]
    }
   ],
   "source": [
    "salary = [123432,5432345,232443,2345643]\n",
    "\n",
    "for value in enumerate(salary):\n",
    "    print(value)"
   ]
  },
  {
   "cell_type": "code",
   "execution_count": 99,
   "id": "efe861ab",
   "metadata": {},
   "outputs": [
    {
     "data": {
      "text/plain": [
       "(11, 2345643)"
      ]
     },
     "execution_count": 99,
     "metadata": {},
     "output_type": "execute_result"
    }
   ],
   "source": [
    "value"
   ]
  },
  {
   "cell_type": "code",
   "execution_count": 104,
   "id": "50ef047a",
   "metadata": {},
   "outputs": [
    {
     "name": "stdout",
     "output_type": "stream",
     "text": [
      "you needs to work hard\n",
      "you needs to work hard\n",
      "you needs to work hard\n",
      "you needs to work hard\n",
      "performance in progress\n",
      "you needs to work hard\n",
      "get distinction\n",
      "you needs to work hard\n"
     ]
    }
   ],
   "source": [
    "marks = [23,32,32,33,44,74,87,76]\n",
    "\n",
    "for mark in marks:\n",
    "    if mark > 80:\n",
    "        if mark > 75:\n",
    "            print('get distinction')\n",
    "            \n",
    "        else:\n",
    "            print('very good')\n",
    "            \n",
    "    elif mark >= 44 and mark <70:\n",
    "        print('performance in progress')\n",
    "        \n",
    "    else:\n",
    "        print('you needs to work hard')"
   ]
  },
  {
   "cell_type": "code",
   "execution_count": 107,
   "id": "2e5a41c2",
   "metadata": {},
   "outputs": [
    {
     "name": "stdout",
     "output_type": "stream",
     "text": [
      "you needs to work hard\n"
     ]
    }
   ],
   "source": [
    "mark = 76\n",
    "if mark > 80:\n",
    "    if mark > 75:\n",
    "        print('get distinction')\n",
    "            \n",
    "    else:\n",
    "            print('very good')\n",
    "            \n",
    "elif mark >= 44 and mark <70:\n",
    "    print('performance in progress')\n",
    "        \n",
    "else:\n",
    "    print('you needs to work hard')"
   ]
  },
  {
   "cell_type": "code",
   "execution_count": 11,
   "id": "2767c4ee",
   "metadata": {},
   "outputs": [
    {
     "name": "stdout",
     "output_type": "stream",
     "text": [
      "(4, 'eerddddddd')\n",
      "(5, 'dsdfvfd')\n"
     ]
    }
   ],
   "source": [
    "gagan = ['eerddddddd' ,'dsdfvfd']\n",
    "gagan\n",
    "\n",
    "for name in enumerate (gagan , 4):\n",
    "    print(name)"
   ]
  },
  {
   "cell_type": "code",
   "execution_count": 110,
   "id": "29bb2ea3",
   "metadata": {},
   "outputs": [
    {
     "data": {
      "text/plain": [
       "['eerddddddd', 'dsdfvfd', 'gaggahaj']"
      ]
     },
     "execution_count": 110,
     "metadata": {},
     "output_type": "execute_result"
    }
   ],
   "source": [
    "gagan.append('gaggahaj')\n",
    "gagan"
   ]
  },
  {
   "cell_type": "code",
   "execution_count": 112,
   "id": "b34a262a",
   "metadata": {},
   "outputs": [],
   "source": [
    "gagan[1] = 'eeee'"
   ]
  },
  {
   "cell_type": "code",
   "execution_count": 113,
   "id": "0ee6bb49",
   "metadata": {},
   "outputs": [
    {
     "data": {
      "text/plain": [
       "['eerddddddd', 'eeee', 'gaggahaj']"
      ]
     },
     "execution_count": 113,
     "metadata": {},
     "output_type": "execute_result"
    }
   ],
   "source": [
    "gagan"
   ]
  },
  {
   "cell_type": "code",
   "execution_count": 114,
   "id": "41cf6b75",
   "metadata": {},
   "outputs": [
    {
     "data": {
      "text/plain": [
       "['eerddddddd', 'g4444', 'eeee', 'gaggahaj']"
      ]
     },
     "execution_count": 114,
     "metadata": {},
     "output_type": "execute_result"
    }
   ],
   "source": [
    "gagan.insert(1,'g4444')\n",
    "gagan"
   ]
  },
  {
   "cell_type": "code",
   "execution_count": 115,
   "id": "284f8745",
   "metadata": {},
   "outputs": [
    {
     "data": {
      "text/plain": [
       "4"
      ]
     },
     "execution_count": 115,
     "metadata": {},
     "output_type": "execute_result"
    }
   ],
   "source": [
    "len(gagan)"
   ]
  },
  {
   "cell_type": "code",
   "execution_count": 116,
   "id": "0234252b",
   "metadata": {},
   "outputs": [
    {
     "data": {
      "text/plain": [
       "'eeee'"
      ]
     },
     "execution_count": 116,
     "metadata": {},
     "output_type": "execute_result"
    }
   ],
   "source": [
    "gagan[2]"
   ]
  },
  {
   "cell_type": "code",
   "execution_count": 117,
   "id": "73d6dad1",
   "metadata": {},
   "outputs": [
    {
     "data": {
      "text/plain": [
       "['eerddddddd', 'g4444']"
      ]
     },
     "execution_count": 117,
     "metadata": {},
     "output_type": "execute_result"
    }
   ],
   "source": [
    "gagan[ : 2]"
   ]
  },
  {
   "cell_type": "code",
   "execution_count": 118,
   "id": "cf6cd6d1",
   "metadata": {},
   "outputs": [
    {
     "data": {
      "text/plain": [
       "['g4444', 'eeee', 'gaggahaj']"
      ]
     },
     "execution_count": 118,
     "metadata": {},
     "output_type": "execute_result"
    }
   ],
   "source": [
    "gagan[1:]"
   ]
  },
  {
   "cell_type": "code",
   "execution_count": 119,
   "id": "20ff783b",
   "metadata": {},
   "outputs": [
    {
     "data": {
      "text/plain": [
       "['eerddddddd', 'g4444', 'eeee', 'gaggahaj', '33333']"
      ]
     },
     "execution_count": 119,
     "metadata": {},
     "output_type": "execute_result"
    }
   ],
   "source": [
    "gagan = gagan + ['33333']\n",
    "gagan"
   ]
  },
  {
   "cell_type": "code",
   "execution_count": 120,
   "id": "d90ab955",
   "metadata": {},
   "outputs": [
    {
     "data": {
      "text/plain": [
       "['eerddddddd', 'g4444', 'eeee', 'gaggahaj', '33333']"
      ]
     },
     "execution_count": 120,
     "metadata": {},
     "output_type": "execute_result"
    }
   ],
   "source": [
    "gagan2 = list(gagan)\n",
    "gagan2"
   ]
  },
  {
   "cell_type": "code",
   "execution_count": 121,
   "id": "44d0fac3",
   "metadata": {},
   "outputs": [
    {
     "data": {
      "text/plain": [
       "4"
      ]
     },
     "execution_count": 121,
     "metadata": {},
     "output_type": "execute_result"
    }
   ],
   "source": [
    "gagan.index('33333')"
   ]
  },
  {
   "cell_type": "code",
   "execution_count": 122,
   "id": "82a257d4",
   "metadata": {},
   "outputs": [],
   "source": [
    "gagan.extend(['g33333','h46eweee'])"
   ]
  },
  {
   "cell_type": "code",
   "execution_count": null,
   "id": "14b5d8b5",
   "metadata": {},
   "outputs": [],
   "source": []
  },
  {
   "cell_type": "code",
   "execution_count": 123,
   "id": "fc1f5bf2",
   "metadata": {},
   "outputs": [
    {
     "data": {
      "text/plain": [
       "['eerddddddd', 'g4444', 'eeee', 'gaggahaj', '33333', 'g33333', 'h46eweee']"
      ]
     },
     "execution_count": 123,
     "metadata": {},
     "output_type": "execute_result"
    }
   ],
   "source": [
    "gagan"
   ]
  },
  {
   "cell_type": "code",
   "execution_count": 124,
   "id": "8cb47c3c",
   "metadata": {},
   "outputs": [
    {
     "data": {
      "text/plain": [
       "1"
      ]
     },
     "execution_count": 124,
     "metadata": {},
     "output_type": "execute_result"
    }
   ],
   "source": [
    "gagan.count('eeee')"
   ]
  },
  {
   "cell_type": "code",
   "execution_count": 125,
   "id": "bd65d0a1",
   "metadata": {},
   "outputs": [],
   "source": [
    "gagan.remove('eeee')"
   ]
  },
  {
   "cell_type": "code",
   "execution_count": 126,
   "id": "ac3e2d5e",
   "metadata": {},
   "outputs": [
    {
     "data": {
      "text/plain": [
       "['eerddddddd', 'g4444', 'gaggahaj', '33333', 'g33333', 'h46eweee']"
      ]
     },
     "execution_count": 126,
     "metadata": {},
     "output_type": "execute_result"
    }
   ],
   "source": [
    "gagan"
   ]
  },
  {
   "cell_type": "code",
   "execution_count": 127,
   "id": "874a222d",
   "metadata": {},
   "outputs": [
    {
     "data": {
      "text/plain": [
       "'h46eweee'"
      ]
     },
     "execution_count": 127,
     "metadata": {},
     "output_type": "execute_result"
    }
   ],
   "source": [
    "pop_a = gagan.pop()\n",
    "pop_a"
   ]
  },
  {
   "cell_type": "code",
   "execution_count": 128,
   "id": "0507808f",
   "metadata": {},
   "outputs": [],
   "source": [
    "pop_index = gagan.pop(0)"
   ]
  },
  {
   "cell_type": "code",
   "execution_count": 129,
   "id": "fd2205f1",
   "metadata": {},
   "outputs": [
    {
     "data": {
      "text/plain": [
       "'eerddddddd'"
      ]
     },
     "execution_count": 129,
     "metadata": {},
     "output_type": "execute_result"
    }
   ],
   "source": [
    "pop_index"
   ]
  },
  {
   "cell_type": "code",
   "execution_count": 130,
   "id": "7ffe8453",
   "metadata": {},
   "outputs": [],
   "source": [
    "gagan.reverse()"
   ]
  },
  {
   "cell_type": "code",
   "execution_count": 131,
   "id": "1525e7d5",
   "metadata": {},
   "outputs": [
    {
     "data": {
      "text/plain": [
       "['g33333', '33333', 'gaggahaj', 'g4444']"
      ]
     },
     "execution_count": 131,
     "metadata": {},
     "output_type": "execute_result"
    }
   ],
   "source": [
    "gagan"
   ]
  },
  {
   "cell_type": "code",
   "execution_count": 132,
   "id": "76bd165a",
   "metadata": {},
   "outputs": [],
   "source": [
    "gagan.sort()"
   ]
  },
  {
   "cell_type": "code",
   "execution_count": 133,
   "id": "29df33e1",
   "metadata": {},
   "outputs": [
    {
     "data": {
      "text/plain": [
       "['33333', 'g33333', 'g4444', 'gaggahaj']"
      ]
     },
     "execution_count": 133,
     "metadata": {},
     "output_type": "execute_result"
    }
   ],
   "source": [
    "gagan"
   ]
  },
  {
   "cell_type": "code",
   "execution_count": 134,
   "id": "d01904a9",
   "metadata": {},
   "outputs": [],
   "source": [
    "gagan.sort(reverse=True)"
   ]
  },
  {
   "cell_type": "code",
   "execution_count": 135,
   "id": "d188c5ce",
   "metadata": {},
   "outputs": [
    {
     "data": {
      "text/plain": [
       "['gaggahaj', 'g4444', 'g33333', '33333']"
      ]
     },
     "execution_count": 135,
     "metadata": {},
     "output_type": "execute_result"
    }
   ],
   "source": [
    "gagan"
   ]
  },
  {
   "cell_type": "code",
   "execution_count": 136,
   "id": "2a77fb4d",
   "metadata": {},
   "outputs": [],
   "source": [
    "salary = set()"
   ]
  },
  {
   "cell_type": "code",
   "execution_count": 137,
   "id": "82ad9395",
   "metadata": {},
   "outputs": [
    {
     "data": {
      "text/plain": [
       "set"
      ]
     },
     "execution_count": 137,
     "metadata": {},
     "output_type": "execute_result"
    }
   ],
   "source": [
    "type(salary)"
   ]
  },
  {
   "cell_type": "code",
   "execution_count": 139,
   "id": "f13024f3",
   "metadata": {},
   "outputs": [
    {
     "data": {
      "text/plain": [
       "{2333}"
      ]
     },
     "execution_count": 139,
     "metadata": {},
     "output_type": "execute_result"
    }
   ],
   "source": [
    "salary.add(2333)\n",
    "salary"
   ]
  },
  {
   "cell_type": "code",
   "execution_count": 140,
   "id": "a192876f",
   "metadata": {},
   "outputs": [],
   "source": [
    "salary.add(2333)"
   ]
  },
  {
   "cell_type": "code",
   "execution_count": 141,
   "id": "215f5f43",
   "metadata": {},
   "outputs": [
    {
     "data": {
      "text/plain": [
       "{2333}"
      ]
     },
     "execution_count": 141,
     "metadata": {},
     "output_type": "execute_result"
    }
   ],
   "source": [
    "salary"
   ]
  },
  {
   "cell_type": "code",
   "execution_count": 142,
   "id": "87ce3d64",
   "metadata": {},
   "outputs": [],
   "source": [
    "remove_gagan = set(gagan)"
   ]
  },
  {
   "cell_type": "code",
   "execution_count": 143,
   "id": "653d65ce",
   "metadata": {},
   "outputs": [
    {
     "data": {
      "text/plain": [
       "['gaggahaj', 'g4444', 'g33333', '33333']"
      ]
     },
     "execution_count": 143,
     "metadata": {},
     "output_type": "execute_result"
    }
   ],
   "source": [
    "gagan"
   ]
  },
  {
   "cell_type": "code",
   "execution_count": 147,
   "id": "bdae9070",
   "metadata": {},
   "outputs": [
    {
     "ename": "SyntaxError",
     "evalue": "invalid syntax (2054783280.py, line 1)",
     "output_type": "error",
     "traceback": [
      "\u001b[1;36m  File \u001b[1;32m\"C:\\Users\\SOOQ ELASER\\AppData\\Local\\Temp\\ipykernel_12688\\2054783280.py\"\u001b[1;36m, line \u001b[1;32m1\u001b[0m\n\u001b[1;33m    my_book = ['g': 1, 'j': 2]\u001b[0m\n\u001b[1;37m                  ^\u001b[0m\n\u001b[1;31mSyntaxError\u001b[0m\u001b[1;31m:\u001b[0m invalid syntax\n"
     ]
    }
   ],
   "source": [
    "my_book = ['g': 1, 'j': 2]\n",
    "my_book"
   ]
  },
  {
   "cell_type": "code",
   "execution_count": 13,
   "id": "3ed976b5",
   "metadata": {},
   "outputs": [],
   "source": [
    "my_book = {'gagan': [123,334,555,6666,6666] , 'd' : 2343}"
   ]
  },
  {
   "cell_type": "code",
   "execution_count": 14,
   "id": "da0dd944",
   "metadata": {},
   "outputs": [
    {
     "data": {
      "text/plain": [
       "{'gagan': [123, 334, 555, 6666, 6666], 'd': 2343}"
      ]
     },
     "execution_count": 14,
     "metadata": {},
     "output_type": "execute_result"
    }
   ],
   "source": [
    "my_book"
   ]
  },
  {
   "cell_type": "code",
   "execution_count": 15,
   "id": "bc1f9369",
   "metadata": {},
   "outputs": [
    {
     "data": {
      "text/plain": [
       "dict_keys(['gagan', 'd'])"
      ]
     },
     "execution_count": 15,
     "metadata": {},
     "output_type": "execute_result"
    }
   ],
   "source": [
    "my_book.keys()"
   ]
  },
  {
   "cell_type": "code",
   "execution_count": 16,
   "id": "2f6e322e",
   "metadata": {},
   "outputs": [
    {
     "data": {
      "text/plain": [
       "dict_items([('gagan', [123, 334, 555, 6666, 6666]), ('d', 2343)])"
      ]
     },
     "execution_count": 16,
     "metadata": {},
     "output_type": "execute_result"
    }
   ],
   "source": [
    "my_book.items()"
   ]
  },
  {
   "cell_type": "code",
   "execution_count": 17,
   "id": "ede40155",
   "metadata": {},
   "outputs": [
    {
     "ename": "AttributeError",
     "evalue": "'dict' object has no attribute 'value'",
     "output_type": "error",
     "traceback": [
      "\u001b[1;31m---------------------------------------------------------------------------\u001b[0m",
      "\u001b[1;31mAttributeError\u001b[0m                            Traceback (most recent call last)",
      "\u001b[1;32m~\\AppData\\Local\\Temp\\ipykernel_792\\2893439363.py\u001b[0m in \u001b[0;36m<module>\u001b[1;34m\u001b[0m\n\u001b[1;32m----> 1\u001b[1;33m \u001b[0mmy_book\u001b[0m\u001b[1;33m.\u001b[0m\u001b[0mvalue\u001b[0m\u001b[1;33m(\u001b[0m\u001b[1;33m)\u001b[0m\u001b[1;33m\u001b[0m\u001b[1;33m\u001b[0m\u001b[0m\n\u001b[0m",
      "\u001b[1;31mAttributeError\u001b[0m: 'dict' object has no attribute 'value'"
     ]
    }
   ],
   "source": [
    "my_book.value()"
   ]
  },
  {
   "cell_type": "code",
   "execution_count": 18,
   "id": "dd5a685d",
   "metadata": {},
   "outputs": [
    {
     "data": {
      "text/plain": [
       "334"
      ]
     },
     "execution_count": 18,
     "metadata": {},
     "output_type": "execute_result"
    }
   ],
   "source": [
    "my_book['gagan'][1]"
   ]
  },
  {
   "cell_type": "code",
   "execution_count": 19,
   "id": "678aae60",
   "metadata": {},
   "outputs": [
    {
     "data": {
      "text/plain": [
       "{'gagan': [123, 334, 591, 6666, 6666], 'd': 2343}"
      ]
     },
     "execution_count": 19,
     "metadata": {},
     "output_type": "execute_result"
    }
   ],
   "source": [
    "my_book['gagan'][2] +=36\n",
    "my_book"
   ]
  },
  {
   "cell_type": "code",
   "execution_count": 20,
   "id": "82ec50a0",
   "metadata": {},
   "outputs": [],
   "source": [
    "my_book['ee'] = ['2222222','7777']"
   ]
  },
  {
   "cell_type": "code",
   "execution_count": 22,
   "id": "7a8ba454",
   "metadata": {},
   "outputs": [
    {
     "data": {
      "text/plain": [
       "{'gagan': [123, 334, 591, 6666, 6666], 'd': 2343, 'ee': ['2222222', '7777']}"
      ]
     },
     "execution_count": 22,
     "metadata": {},
     "output_type": "execute_result"
    }
   ],
   "source": [
    "my_book"
   ]
  },
  {
   "cell_type": "code",
   "execution_count": 23,
   "id": "c8e67566",
   "metadata": {},
   "outputs": [
    {
     "name": "stdout",
     "output_type": "stream",
     "text": [
      "(0, 'gagan')\n",
      "(1, 'd')\n",
      "(2, 'ee')\n"
     ]
    }
   ],
   "source": [
    "my_book\n",
    "\n",
    "for name in enumerate (my_book):\n",
    "    print(name)"
   ]
  },
  {
   "cell_type": "code",
   "execution_count": 26,
   "id": "d15ec441",
   "metadata": {},
   "outputs": [
    {
     "name": "stdout",
     "output_type": "stream",
     "text": [
      "{'gagan': [123, 334, 591, 6666, 6666], 'd': 2343, 'ee': ['2222222', '7777']}\n",
      "[123432, 5432345, 232443, 2345643]\n"
     ]
    }
   ],
   "source": [
    "print(my_book)\n",
    "print(salary)\n",
    "\n"
   ]
  },
  {
   "cell_type": "code",
   "execution_count": 27,
   "id": "12bad98e",
   "metadata": {},
   "outputs": [
    {
     "name": "stdout",
     "output_type": "stream",
     "text": [
      "[('gagan', 123432), ('d', 5432345), ('ee', 232443)]\n"
     ]
    }
   ],
   "source": [
    "total_cost = list(zip(my_book,salary))\n",
    "print(total_cost)"
   ]
  },
  {
   "cell_type": "code",
   "execution_count": 29,
   "id": "29b8ccc6",
   "metadata": {},
   "outputs": [
    {
     "ename": "ValueError",
     "evalue": "too many values to unpack (expected 2)",
     "output_type": "error",
     "traceback": [
      "\u001b[1;31m---------------------------------------------------------------------------\u001b[0m",
      "\u001b[1;31mValueError\u001b[0m                                Traceback (most recent call last)",
      "\u001b[1;32m~\\AppData\\Local\\Temp\\ipykernel_792\\286676979.py\u001b[0m in \u001b[0;36m<module>\u001b[1;34m\u001b[0m\n\u001b[1;32m----> 1\u001b[1;33m \u001b[0mmy_book\u001b[0m\u001b[1;33m,\u001b[0m \u001b[0msalary\u001b[0m \u001b[1;33m=\u001b[0m \u001b[0mzip\u001b[0m\u001b[1;33m(\u001b[0m\u001b[0mtotal_cost\u001b[0m\u001b[1;33m)\u001b[0m\u001b[1;33m\u001b[0m\u001b[1;33m\u001b[0m\u001b[0m\n\u001b[0m",
      "\u001b[1;31mValueError\u001b[0m: too many values to unpack (expected 2)"
     ]
    }
   ],
   "source": [
    "my_book, salary = zip(total_cost)"
   ]
  },
  {
   "cell_type": "code",
   "execution_count": 53,
   "id": "7b9ae9b4",
   "metadata": {},
   "outputs": [
    {
     "ename": "TypeError",
     "evalue": "'<=' not supported between instances of 'int' and 'list'",
     "output_type": "error",
     "traceback": [
      "\u001b[1;31m---------------------------------------------------------------------------\u001b[0m",
      "\u001b[1;31mTypeError\u001b[0m                                 Traceback (most recent call last)",
      "\u001b[1;32m~\\AppData\\Local\\Temp\\ipykernel_792\\137870571.py\u001b[0m in \u001b[0;36m<module>\u001b[1;34m\u001b[0m\n\u001b[0;32m      2\u001b[0m \u001b[1;33m\u001b[0m\u001b[0m\n\u001b[0;32m      3\u001b[0m \u001b[1;32mfor\u001b[0m \u001b[0mamn\u001b[0m \u001b[1;32min\u001b[0m \u001b[0memp_sal\u001b[0m\u001b[1;33m:\u001b[0m\u001b[1;33m\u001b[0m\u001b[1;33m\u001b[0m\u001b[0m\n\u001b[1;32m----> 4\u001b[1;33m     \u001b[0mamn\u001b[0m  \u001b[1;33m<=\u001b[0m\u001b[1;33m[\u001b[0m\u001b[1;34m'34500'\u001b[0m\u001b[1;33m]\u001b[0m\u001b[1;33m\u001b[0m\u001b[1;33m\u001b[0m\u001b[0m\n\u001b[0m\u001b[0;32m      5\u001b[0m     \u001b[1;32mcontinue\u001b[0m\u001b[1;33m\u001b[0m\u001b[1;33m\u001b[0m\u001b[0m\n\u001b[0;32m      6\u001b[0m     \u001b[0mprint\u001b[0m\u001b[1;33m(\u001b[0m\u001b[0mamn\u001b[0m\u001b[1;33m)\u001b[0m\u001b[1;33m\u001b[0m\u001b[1;33m\u001b[0m\u001b[0m\n",
      "\u001b[1;31mTypeError\u001b[0m: '<=' not supported between instances of 'int' and 'list'"
     ]
    }
   ],
   "source": [
    "emp_sal = [12334,33444,22334,22334,34500]\n",
    "\n",
    "for amn in emp_sal:\n",
    "    amn  <=['34500']\n",
    "    continue\n",
    "    print(amn)\n",
    "        "
   ]
  },
  {
   "cell_type": "code",
   "execution_count": 38,
   "id": "04768c57",
   "metadata": {},
   "outputs": [
    {
     "name": "stdout",
     "output_type": "stream",
     "text": [
      "34500\n"
     ]
    }
   ],
   "source": [
    "print(amn)"
   ]
  },
  {
   "cell_type": "code",
   "execution_count": 62,
   "id": "73ae40aa",
   "metadata": {},
   "outputs": [],
   "source": [
    "emp_sal = [12334,33444,22334,22334,34500]\n",
    "\n",
    "for val in emp_sal:\n",
    "        if val < 34500:\n",
    "            break\n",
    "            print(val)\n",
    "        "
   ]
  },
  {
   "cell_type": "code",
   "execution_count": 67,
   "id": "1290d660",
   "metadata": {},
   "outputs": [
    {
     "name": "stdout",
     "output_type": "stream",
     "text": [
      "multi 2\n",
      "multi 3\n",
      "multi 4\n",
      "4 * 1 is = 4\n",
      "4 * 2 is = 4\n",
      "4 * 3 is = 4\n",
      "4 * 4 is = 4\n",
      "4 * 5 is = 4\n",
      "4 * 6 is = 4\n",
      "4 * 7 is = 4\n",
      "4 * 8 is = 4\n",
      "4 * 9 is = 4\n",
      "4 * 10 is = 4\n"
     ]
    }
   ],
   "source": [
    "for num in range(2,5):\n",
    "    print(\"multi\", num )    \n",
    "for i in range  (1,11):\n",
    "    print(num,'*', i, \"is =\", num*1 )\n",
    "    i = i + 1"
   ]
  },
  {
   "cell_type": "code",
   "execution_count": 100,
   "id": "d159549e",
   "metadata": {},
   "outputs": [],
   "source": [
    "sal = [1,2,3,4,5,6,7,8,9,10]\n",
    "\n",
    "\n",
    "for val in sal:\n",
    "    if val >= 10:\n",
    "        break\n",
    "        print(val)\n",
    "        \n",
    "        "
   ]
  },
  {
   "cell_type": "code",
   "execution_count": 101,
   "id": "9458fa89",
   "metadata": {},
   "outputs": [
    {
     "name": "stdout",
     "output_type": "stream",
     "text": [
      "10\n"
     ]
    }
   ],
   "source": [
    "print(val)"
   ]
  },
  {
   "cell_type": "code",
   "execution_count": 117,
   "id": "8996c3a8",
   "metadata": {},
   "outputs": [],
   "source": [
    "salary = [2000,3780,4200,5000,6000,7000]\n",
    "\n",
    "for val in salary:\n",
    "    if val > 680:\n",
    "        continue\n",
    "    print(val)"
   ]
  },
  {
   "cell_type": "code",
   "execution_count": 118,
   "id": "2d142f31",
   "metadata": {},
   "outputs": [
    {
     "name": "stdout",
     "output_type": "stream",
     "text": [
      "7000\n"
     ]
    }
   ],
   "source": [
    "print(val)"
   ]
  },
  {
   "cell_type": "code",
   "execution_count": null,
   "id": "3173d1f7",
   "metadata": {},
   "outputs": [],
   "source": []
  }
 ],
 "metadata": {
  "kernelspec": {
   "display_name": "Python 3 (ipykernel)",
   "language": "python",
   "name": "python3"
  },
  "language_info": {
   "codemirror_mode": {
    "name": "ipython",
    "version": 3
   },
   "file_extension": ".py",
   "mimetype": "text/x-python",
   "name": "python",
   "nbconvert_exporter": "python",
   "pygments_lexer": "ipython3",
   "version": "3.9.13"
  }
 },
 "nbformat": 4,
 "nbformat_minor": 5
}
