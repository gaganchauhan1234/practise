{
 "cells": [
  {
   "cell_type": "code",
   "execution_count": 2,
   "id": "22ffa960",
   "metadata": {},
   "outputs": [],
   "source": [
    "import sqlite3"
   ]
  },
  {
   "cell_type": "code",
   "execution_count": 3,
   "id": "35a27894",
   "metadata": {},
   "outputs": [],
   "source": [
    "name = sqlite3.connect(\"student_data.name\")"
   ]
  },
  {
   "cell_type": "code",
   "execution_count": 4,
   "id": "54290b4f",
   "metadata": {},
   "outputs": [],
   "source": [
    "cursor = name.cursor()"
   ]
  },
  {
   "cell_type": "code",
   "execution_count": 5,
   "id": "d28bf493",
   "metadata": {},
   "outputs": [
    {
     "ename": "OperationalError",
     "evalue": "table student_deatil already exists",
     "output_type": "error",
     "traceback": [
      "\u001b[1;31m---------------------------------------------------------------------------\u001b[0m",
      "\u001b[1;31mOperationalError\u001b[0m                          Traceback (most recent call last)",
      "\u001b[1;32m~\\AppData\\Local\\Temp\\ipykernel_11924\\2170394291.py\u001b[0m in \u001b[0;36m<module>\u001b[1;34m\u001b[0m\n\u001b[1;32m----> 1\u001b[1;33m \u001b[0mcursor\u001b[0m\u001b[1;33m.\u001b[0m\u001b[0mexecute\u001b[0m\u001b[1;33m(\u001b[0m\u001b[1;34m\"create table student_deatil(phone_number int primary key ,student name text , enrolled_date int , marks int)\"\u001b[0m\u001b[1;33m)\u001b[0m\u001b[1;33m\u001b[0m\u001b[1;33m\u001b[0m\u001b[0m\n\u001b[0m\u001b[0;32m      2\u001b[0m \u001b[1;33m\u001b[0m\u001b[0m\n\u001b[0;32m      3\u001b[0m \u001b[0mname\u001b[0m \u001b[1;33m.\u001b[0m\u001b[0mcommit\u001b[0m\u001b[1;33m(\u001b[0m\u001b[1;33m)\u001b[0m\u001b[1;33m\u001b[0m\u001b[1;33m\u001b[0m\u001b[0m\n",
      "\u001b[1;31mOperationalError\u001b[0m: table student_deatil already exists"
     ]
    }
   ],
   "source": [
    "cursor.execute(\"create table student_deatil(phone_number int primary key ,student name text , enrolled_date int , marks int)\")\n",
    "\n",
    "name .commit()"
   ]
  },
  {
   "cell_type": "code",
   "execution_count": 6,
   "id": "c9aae34c",
   "metadata": {},
   "outputs": [
    {
     "ename": "NameError",
     "evalue": "name 'curosr' is not defined",
     "output_type": "error",
     "traceback": [
      "\u001b[1;31m---------------------------------------------------------------------------\u001b[0m",
      "\u001b[1;31mNameError\u001b[0m                                 Traceback (most recent call last)",
      "\u001b[1;32m~\\AppData\\Local\\Temp\\ipykernel_11924\\3567084382.py\u001b[0m in \u001b[0;36m<module>\u001b[1;34m\u001b[0m\n\u001b[1;32m----> 1\u001b[1;33m \u001b[0mcurosr\u001b[0m\u001b[1;33m.\u001b[0m\u001b[0mexecute\u001b[0m\u001b[1;33m(\u001b[0m\u001b[1;34m\"insert into student_deatil values(9812343767,'deepika', 'data base',1233333),(1232323444,'abhi','data analysit',12334444)\"\u001b[0m\u001b[1;33m)\u001b[0m\u001b[1;33m\u001b[0m\u001b[1;33m\u001b[0m\u001b[0m\n\u001b[0m\u001b[0;32m      2\u001b[0m \u001b[1;33m\u001b[0m\u001b[0m\n\u001b[0;32m      3\u001b[0m \u001b[0mname\u001b[0m\u001b[1;33m.\u001b[0m\u001b[0mcommit\u001b[0m\u001b[1;33m(\u001b[0m\u001b[1;33m)\u001b[0m\u001b[1;33m\u001b[0m\u001b[1;33m\u001b[0m\u001b[0m\n",
      "\u001b[1;31mNameError\u001b[0m: name 'curosr' is not defined"
     ]
    }
   ],
   "source": [
    "curosr.execute(\"insert into student_deatil values(9812343767,'deepika', 'data base',1233333),(1232323444,'abhi','data analysit',12334444)\")\n",
    "\n",
    "name.commit()"
   ]
  },
  {
   "cell_type": "code",
   "execution_count": 7,
   "id": "e51db5e6",
   "metadata": {},
   "outputs": [
    {
     "name": "stdout",
     "output_type": "stream",
     "text": [
      "(9812323767, 'deepika', 'data base', 1233333)\n",
      "(9812343767, 'deepika', 'data base', 1233333)\n",
      "(1232323444, 'abhi', 'data analysit', 12334444)\n",
      "(9988776604, 'Salah', '03-10-2020', 85)\n",
      "(9988776605, 'Heung-Son', '21-06-2020', 39)\n",
      "(9988776606, 'Ronaldo', '08-05-2020', 86)\n",
      "(9988776607, 'Kane', '11-05-2022', 57)\n",
      "(9988776608, 'Mane', '17-05-2022', 52)\n",
      "(6609998877, 'Vardy', '17-12-2020', 54)\n",
      "(6609998878, 'Jota', '06-11-2021', 45)\n",
      "(6609998879, 'Bruyne', '26-11-2020', 49)\n",
      "(6609998880, 'Zaha', '05-12-2020', 88)\n",
      "(6609998881, 'Sterling', '29-10-2020', 61)\n",
      "(9988776614, 'Toney', '31-03-2022', 71)\n",
      "(9988776615, 'Maddison', '10-03-2020', 44)\n",
      "(1687799866, 'Bowen', '14-02-2021', 96)\n",
      "(1687799867, 'Saka', '19-12-2022', 92)\n",
      "(1687799868, 'Watkins', '30-01-2021', 49)\n",
      "(1687799869, 'Mount', '16-09-2022', 48)\n",
      "(1687799870, 'Raphael', '15-05-2021', 50)\n",
      "(1687799871, 'Mahrez', '30-10-2021', 72)\n",
      "(9988776622, 'Pukki', '19-02-2021', 93)\n",
      "(9988776623, 'Fernandes', '01-03-2022', 94)\n"
     ]
    }
   ],
   "source": [
    "result = cursor.execute(\"select * from student_deatil\")\n",
    "for r in result:\n",
    "    print(r)\n",
    "                        "
   ]
  },
  {
   "cell_type": "code",
   "execution_count": 8,
   "id": "486307ae",
   "metadata": {},
   "outputs": [
    {
     "ename": "IntegrityError",
     "evalue": "UNIQUE constraint failed: student_deatil.phone_number",
     "output_type": "error",
     "traceback": [
      "\u001b[1;31m---------------------------------------------------------------------------\u001b[0m",
      "\u001b[1;31mIntegrityError\u001b[0m                            Traceback (most recent call last)",
      "\u001b[1;32m~\\AppData\\Local\\Temp\\ipykernel_11924\\2613531629.py\u001b[0m in \u001b[0;36m<module>\u001b[1;34m\u001b[0m\n\u001b[0;32m      1\u001b[0m \u001b[1;32mwith\u001b[0m \u001b[0mopen\u001b[0m\u001b[1;33m(\u001b[0m\u001b[1;34m\"Students_details3.csv\"\u001b[0m\u001b[1;33m,\u001b[0m\u001b[1;34m\"r\"\u001b[0m\u001b[1;33m)\u001b[0m \u001b[1;32mas\u001b[0m \u001b[0mfile\u001b[0m\u001b[1;33m:\u001b[0m\u001b[1;33m\u001b[0m\u001b[1;33m\u001b[0m\u001b[0m\n\u001b[0;32m      2\u001b[0m     \u001b[1;32mfor\u001b[0m \u001b[0mr\u001b[0m \u001b[1;32min\u001b[0m \u001b[0mfile\u001b[0m\u001b[1;33m:\u001b[0m\u001b[1;33m\u001b[0m\u001b[1;33m\u001b[0m\u001b[0m\n\u001b[1;32m----> 3\u001b[1;33m         \u001b[0mcursor\u001b[0m\u001b[1;33m.\u001b[0m\u001b[0mexecute\u001b[0m\u001b[1;33m(\u001b[0m\u001b[1;34m\"insert into student_deatil values (?,?,?,?) \"\u001b[0m\u001b[1;33m,\u001b[0m \u001b[0mr\u001b[0m\u001b[1;33m.\u001b[0m\u001b[0msplit\u001b[0m\u001b[1;33m(\u001b[0m\u001b[1;34m\",\"\u001b[0m\u001b[1;33m)\u001b[0m\u001b[1;33m)\u001b[0m\u001b[1;33m\u001b[0m\u001b[1;33m\u001b[0m\u001b[0m\n\u001b[0m\u001b[0;32m      4\u001b[0m \u001b[1;33m\u001b[0m\u001b[0m\n\u001b[0;32m      5\u001b[0m     \u001b[0mname\u001b[0m\u001b[1;33m.\u001b[0m\u001b[0mcommit\u001b[0m\u001b[1;33m(\u001b[0m\u001b[1;33m)\u001b[0m\u001b[1;33m\u001b[0m\u001b[1;33m\u001b[0m\u001b[0m\n",
      "\u001b[1;31mIntegrityError\u001b[0m: UNIQUE constraint failed: student_deatil.phone_number"
     ]
    }
   ],
   "source": [
    "with open(\"Students_details3.csv\",\"r\") as file:\n",
    "    for r in file:\n",
    "        cursor.execute(\"insert into student_deatil values (?,?,?,?) \", r.split(\",\"))\n",
    "    \n",
    "    name.commit()\n",
    "print(curosr.rowcount)    \n",
    "    "
   ]
  },
  {
   "cell_type": "code",
   "execution_count": 9,
   "id": "a030ec82",
   "metadata": {},
   "outputs": [
    {
     "name": "stdout",
     "output_type": "stream",
     "text": [
      "(9812323767, 'deepika', 'data base', 1233333)\n",
      "(9812343767, 'deepika', 'data base', 1233333)\n",
      "(1232323444, 'abhi', 'data analysit', 12334444)\n",
      "(9988776604, 'Salah', '03-10-2020', 85)\n",
      "(9988776605, 'Heung-Son', '21-06-2020', 39)\n",
      "(9988776606, 'Ronaldo', '08-05-2020', 86)\n",
      "(9988776607, 'Kane', '11-05-2022', 57)\n",
      "(9988776608, 'Mane', '17-05-2022', 52)\n",
      "(6609998877, 'Vardy', '17-12-2020', 54)\n",
      "(6609998878, 'Jota', '06-11-2021', 45)\n",
      "(6609998879, 'Bruyne', '26-11-2020', 49)\n",
      "(6609998880, 'Zaha', '05-12-2020', 88)\n",
      "(6609998881, 'Sterling', '29-10-2020', 61)\n",
      "(9988776614, 'Toney', '31-03-2022', 71)\n",
      "(9988776615, 'Maddison', '10-03-2020', 44)\n",
      "(1687799866, 'Bowen', '14-02-2021', 96)\n",
      "(1687799867, 'Saka', '19-12-2022', 92)\n",
      "(1687799868, 'Watkins', '30-01-2021', 49)\n",
      "(1687799869, 'Mount', '16-09-2022', 48)\n",
      "(1687799870, 'Raphael', '15-05-2021', 50)\n",
      "(1687799871, 'Mahrez', '30-10-2021', 72)\n",
      "(9988776622, 'Pukki', '19-02-2021', 93)\n",
      "(9988776623, 'Fernandes', '01-03-2022', 94)\n"
     ]
    }
   ],
   "source": [
    "result = cursor.execute(\"select * from student_deatil\")\n",
    "for r in result:\n",
    "    print(r)\n",
    "              "
   ]
  },
  {
   "cell_type": "code",
   "execution_count": 10,
   "id": "5a280422",
   "metadata": {},
   "outputs": [],
   "source": [
    "result = \"select * from student_deatil where marks > 50 and phone_number =687799869 \"\n",
    "results = cursor.execute(result)\n",
    "for r in results:\n",
    "    print(r)"
   ]
  },
  {
   "cell_type": "code",
   "execution_count": 11,
   "id": "c527a84f",
   "metadata": {},
   "outputs": [
    {
     "name": "stdout",
     "output_type": "stream",
     "text": [
      "(1232323444, 'abhi', 'data analysit', 12334444)\n",
      "(9812323767, 'deepika', 'data base', 1233333)\n",
      "(9812343767, 'deepika', 'data base', 1233333)\n",
      "(1687799866, 'Bowen', '14-02-2021', 96)\n",
      "(9988776623, 'Fernandes', '01-03-2022', 94)\n",
      "(9988776622, 'Pukki', '19-02-2021', 93)\n",
      "(1687799867, 'Saka', '19-12-2022', 92)\n",
      "(6609998880, 'Zaha', '05-12-2020', 88)\n",
      "(9988776606, 'Ronaldo', '08-05-2020', 86)\n",
      "(9988776604, 'Salah', '03-10-2020', 85)\n",
      "(1687799871, 'Mahrez', '30-10-2021', 72)\n",
      "(9988776614, 'Toney', '31-03-2022', 71)\n",
      "(6609998881, 'Sterling', '29-10-2020', 61)\n",
      "(9988776607, 'Kane', '11-05-2022', 57)\n",
      "(6609998877, 'Vardy', '17-12-2020', 54)\n",
      "(9988776608, 'Mane', '17-05-2022', 52)\n",
      "(1687799870, 'Raphael', '15-05-2021', 50)\n",
      "(6609998879, 'Bruyne', '26-11-2020', 49)\n",
      "(1687799868, 'Watkins', '30-01-2021', 49)\n",
      "(1687799869, 'Mount', '16-09-2022', 48)\n",
      "(6609998878, 'Jota', '06-11-2021', 45)\n",
      "(9988776615, 'Maddison', '10-03-2020', 44)\n",
      "(9988776605, 'Heung-Son', '21-06-2020', 39)\n"
     ]
    }
   ],
   "source": [
    "result= cursor.execute(\"select * from student_deatil order by marks desc\")\n",
    "for r in result:\n",
    "    print(r)"
   ]
  },
  {
   "cell_type": "code",
   "execution_count": 24,
   "id": "7f2b4d84",
   "metadata": {},
   "outputs": [
    {
     "name": "stdout",
     "output_type": "stream",
     "text": [
      "(1687799869, 'Mount', '16-09-2022', 100)\n"
     ]
    }
   ],
   "source": [
    "result = \"select * from student_deatil where phone_number =1687799869 and marks > 50 \"\n",
    "sql = cursor.execute(result)\n",
    "for r in sql:\n",
    "    print(r)"
   ]
  },
  {
   "cell_type": "code",
   "execution_count": 34,
   "id": "c7798e63",
   "metadata": {},
   "outputs": [
    {
     "data": {
      "text/plain": [
       "<sqlite3.Cursor at 0x26474314c00>"
      ]
     },
     "execution_count": 34,
     "metadata": {},
     "output_type": "execute_result"
    }
   ],
   "source": [
    "update = \"update student_deatil set  marks = 45 where phone_number = 988776605\"\n",
    "cursor.execute(update)\n"
   ]
  },
  {
   "cell_type": "code",
   "execution_count": 35,
   "id": "f0b51ba1",
   "metadata": {},
   "outputs": [],
   "source": [
    "update = \"select * from student_deatil where phone_number = 988776605 \"\n",
    "result = cursor.execute(update)\n",
    "for r in result:\n",
    "    print(r)"
   ]
  },
  {
   "cell_type": "code",
   "execution_count": 32,
   "id": "8be0ed5a",
   "metadata": {},
   "outputs": [
    {
     "data": {
      "text/plain": [
       "<sqlite3.Cursor at 0x26474314c00>"
      ]
     },
     "execution_count": 32,
     "metadata": {},
     "output_type": "execute_result"
    }
   ],
   "source": [
    "update = \"update student_deatil set marks = 100 where phone_number in (1687799869,9988776607,6609998878)\"\n",
    "cursor.execute(update)"
   ]
  },
  {
   "cell_type": "code",
   "execution_count": 33,
   "id": "aea73eec",
   "metadata": {},
   "outputs": [
    {
     "name": "stdout",
     "output_type": "stream",
     "text": [
      "(1687799869, 100)\n",
      "(6609998878, 100)\n",
      "(9988776607, 100)\n"
     ]
    }
   ],
   "source": [
    "reult = cursor.execute(\"select phone_number , marks from student_deatil where phone_number in(1687799869,9988776607,6609998878) \")\n",
    "for r in reult:\n",
    "    print(r)\n"
   ]
  },
  {
   "cell_type": "code",
   "execution_count": null,
   "id": "1eae3066",
   "metadata": {},
   "outputs": [],
   "source": []
  }
 ],
 "metadata": {
  "kernelspec": {
   "display_name": "Python 3 (ipykernel)",
   "language": "python",
   "name": "python3"
  },
  "language_info": {
   "codemirror_mode": {
    "name": "ipython",
    "version": 3
   },
   "file_extension": ".py",
   "mimetype": "text/x-python",
   "name": "python",
   "nbconvert_exporter": "python",
   "pygments_lexer": "ipython3",
   "version": "3.9.13"
  }
 },
 "nbformat": 4,
 "nbformat_minor": 5
}
