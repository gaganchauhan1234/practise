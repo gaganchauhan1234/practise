{
 "cells": [
  {
   "cell_type": "code",
   "execution_count": 1,
   "id": "af12631d",
   "metadata": {},
   "outputs": [
    {
     "name": "stdout",
     "output_type": "stream",
     "text": [
      "3333\n",
      "2313\n",
      "3444\n"
     ]
    }
   ],
   "source": [
    "salary = [3333,2313,12344,3444,65443,60000]\n",
    "\n",
    "for val in salary:\n",
    "    if val > 5555:\n",
    "        continue\n",
    "    print(val)   "
   ]
  },
  {
   "cell_type": "code",
   "execution_count": 2,
   "id": "aa09ab3a",
   "metadata": {},
   "outputs": [
    {
     "name": "stdout",
     "output_type": "stream",
     "text": [
      "very good one\n",
      "very good one\n",
      "very good one\n",
      "very good one\n"
     ]
    }
   ],
   "source": [
    "sal = [44556777,4455234,35556787,221233445,76543433]\n",
    "\n",
    "for sal in sal:\n",
    "    if sal > 4455677:\n",
    "        if sal > 35556777:\n",
    "            print('very good one')\n",
    "                                            \n",
    "    elif sal > 25553777 and sal < 15553777:\n",
    "        print('pip')\n",
    "        \n",
    "    else:\n",
    "         ('they all are fresheee')\n",
    "        \n",
    "            \n",
    "    \n"
   ]
  },
  {
   "cell_type": "code",
   "execution_count": null,
   "id": "25e35d7d",
   "metadata": {},
   "outputs": [],
   "source": []
  },
  {
   "cell_type": "code",
   "execution_count": 3,
   "id": "2233afc7",
   "metadata": {},
   "outputs": [
    {
     "data": {
      "text/plain": [
       "[0, 2, 4, 6, 8, 10]"
      ]
     },
     "execution_count": 3,
     "metadata": {},
     "output_type": "execute_result"
    }
   ],
   "source": [
    "list(range(0,12,2))"
   ]
  },
  {
   "cell_type": "code",
   "execution_count": 4,
   "id": "eca05959",
   "metadata": {},
   "outputs": [
    {
     "data": {
      "text/plain": [
       "[]"
      ]
     },
     "execution_count": 4,
     "metadata": {},
     "output_type": "execute_result"
    }
   ],
   "source": [
    "reverse = list(range(1600,-100,100))\n",
    "reverse"
   ]
  },
  {
   "cell_type": "code",
   "execution_count": 5,
   "id": "264ff78f",
   "metadata": {},
   "outputs": [],
   "source": [
    "city = ['hhhhh','ttredcv', 'hgfffggh']\n",
    "\n",
    "for name in city:\n",
    "    if name == 'ttredvc':\n",
    "        continue\n",
    "        print(name)"
   ]
  },
  {
   "cell_type": "code",
   "execution_count": 6,
   "id": "afd27108",
   "metadata": {},
   "outputs": [
    {
     "name": "stdout",
     "output_type": "stream",
     "text": [
      "hgfffggh\n"
     ]
    }
   ],
   "source": [
    "print(name)"
   ]
  },
  {
   "cell_type": "code",
   "execution_count": 7,
   "id": "a3122887",
   "metadata": {},
   "outputs": [],
   "source": [
    "i = 0\n",
    "\n",
    "while i < 20:\n",
    "    i = i + 1\n",
    "    continue\n",
    "    print(1 , 'gagan')"
   ]
  },
  {
   "cell_type": "code",
   "execution_count": 8,
   "id": "1a50175a",
   "metadata": {},
   "outputs": [
    {
     "name": "stdout",
     "output_type": "stream",
     "text": [
      "1 gagan\n",
      "2 gagan\n",
      "3 gagan\n",
      "4 gagan\n",
      "5 gagan\n",
      "6 gagan\n",
      "7 gagan\n",
      "8 gagan\n",
      "9 gagan\n",
      "10 gagan\n",
      "11 gagan\n",
      "12 gagan\n",
      "13 gagan\n",
      "14 gagan\n",
      "15 gagan\n",
      "16 gagan\n",
      "17 gagan\n",
      "18 gagan\n",
      "19 gagan\n",
      "20 gagan\n"
     ]
    }
   ],
   "source": [
    "i = 0\n",
    "\n",
    "while i < 20:\n",
    "    i = i + 1\n",
    "    print(i , 'gagan')"
   ]
  },
  {
   "cell_type": "code",
   "execution_count": 9,
   "id": "6f328b8b",
   "metadata": {},
   "outputs": [],
   "source": [
    "def say_hello():\n",
    "    print('this is just sample')\n"
   ]
  },
  {
   "cell_type": "code",
   "execution_count": 10,
   "id": "9a3c84cc",
   "metadata": {},
   "outputs": [
    {
     "name": "stdout",
     "output_type": "stream",
     "text": [
      "this is just sample\n"
     ]
    }
   ],
   "source": [
    "say_hello()"
   ]
  },
  {
   "cell_type": "code",
   "execution_count": 11,
   "id": "b810d52a",
   "metadata": {},
   "outputs": [],
   "source": [
    "def girl_frnd(name):\n",
    "    print('sudarshana' , name )"
   ]
  },
  {
   "cell_type": "code",
   "execution_count": 12,
   "id": "f23e1bcd",
   "metadata": {},
   "outputs": [
    {
     "name": "stdout",
     "output_type": "stream",
     "text": [
      "sudarshana sudoo\n",
      "sudarshana sheetal\n",
      "sudarshana alka\n"
     ]
    }
   ],
   "source": [
    "girl_frnd('sudoo')\n",
    "girl_frnd('sheetal')\n",
    "girl_frnd('alka')"
   ]
  },
  {
   "cell_type": "code",
   "execution_count": 13,
   "id": "7ffb333f",
   "metadata": {},
   "outputs": [],
   "source": [
    "def marks_s(scoredexam , projectes):\n",
    "    total_marks = (scoredexam+ projectes)\n",
    "    \n",
    "    if total_marks > 35:\n",
    "        total_marks + 15\n",
    "        \n",
    "    else:\n",
    "        total_marks\n",
    "        "
   ]
  },
  {
   "cell_type": "code",
   "execution_count": 14,
   "id": "33a48119",
   "metadata": {},
   "outputs": [
    {
     "name": "stdout",
     "output_type": "stream",
     "text": [
      "total new marks = None\n"
     ]
    }
   ],
   "source": [
    "print('total new marks =',marks_s(55,12))"
   ]
  },
  {
   "cell_type": "code",
   "execution_count": 21,
   "id": "58a9cffd",
   "metadata": {},
   "outputs": [
    {
     "name": "stdout",
     "output_type": "stream",
     "text": [
      "82 data trained\n",
      "83 data trained\n",
      "84 data trained\n",
      "85 data trained\n",
      "86 data trained\n",
      "87 data trained\n",
      "88 data trained\n",
      "89 data trained\n",
      "90 data trained\n",
      "91 data trained\n"
     ]
    }
   ],
   "source": [
    "i = 81\n",
    "\n",
    "while i < 91:\n",
    "    i = i + 1\n",
    "    \n",
    "    print(i , 'data trained')"
   ]
  },
  {
   "cell_type": "code",
   "execution_count": null,
   "id": "4508a312",
   "metadata": {},
   "outputs": [],
   "source": []
  }
 ],
 "metadata": {
  "kernelspec": {
   "display_name": "Python 3 (ipykernel)",
   "language": "python",
   "name": "python3"
  },
  "language_info": {
   "codemirror_mode": {
    "name": "ipython",
    "version": 3
   },
   "file_extension": ".py",
   "mimetype": "text/x-python",
   "name": "python",
   "nbconvert_exporter": "python",
   "pygments_lexer": "ipython3",
   "version": "3.9.13"
  }
 },
 "nbformat": 4,
 "nbformat_minor": 5
}
